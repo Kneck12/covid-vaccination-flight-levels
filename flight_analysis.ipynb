{
 "cells": [
  {
   "cell_type": "code",
   "execution_count": 72,
   "id": "7b7f3a0e",
   "metadata": {},
   "outputs": [],
   "source": [
    "import numpy as np\n",
    "import pandas as pd\n",
    "import pycountry\n",
    "from datetime import datetime\n",
    "import os\n",
    "\n",
    "import requests\n",
    "from bs4 import BeautifulSoup\n",
    "import csv\n",
    "import re\n",
    "\n",
    "from matplotlib import pyplot as plt\n",
    "plt.style.use('ggplot')\n",
    "import seaborn as sns\n",
    "\n",
    "%matplotlib inline\n",
    "\n",
    "\n",
    "\n"
   ]
  },
  {
   "cell_type": "code",
   "execution_count": 13,
   "id": "ebe11fba",
   "metadata": {},
   "outputs": [],
   "source": [
    "#collect list of Top100 airlines (source: https://www.flightsfrom.com/top-100-airlines)\n",
    "\n",
    "\n",
    "headers = {'User-Agent': 'Mozilla/5.0 (Windows NT 10.0; Win64; x64) AppleWebKit/537.36 (KHTML, like Gecko) /Chrome/88.0.4324.104 Safari/537.36'}\n",
    "\n",
    "\n",
    "tmplist=[]\n",
    "\n",
    "counter=0\n",
    "response=requests.get(f'https://www.flightsfrom.com/top-100-airlines',headers=headers)\n",
    "soup=BeautifulSoup(response.text, 'html.parser')\n",
    "\n",
    "tmplist=soup.find_all('span', attrs = {'class': 'hometoplist-first'})\n",
    "\n",
    "top100_airlines=[]\n",
    "\n",
    "for tmp in tmplist:\n",
    "    top100_airlines.append(tmp.get_text().strip())\n",
    "    \n",
    "    \n",
    "    "
   ]
  },
  {
   "cell_type": "code",
   "execution_count": 4,
   "id": "280f566d",
   "metadata": {
    "scrolled": true
   },
   "outputs": [
    {
     "name": "stdout",
     "output_type": "stream",
     "text": [
      "1\n",
      "\n",
      "\n",
      "<DirEntry 'flightlist_20200801_20200831.csv'>\n",
      "2\n",
      "\n",
      "\n",
      "<DirEntry 'flightlist_20191101_20191130.csv'>\n",
      "3\n",
      "\n",
      "\n",
      "<DirEntry 'flightlist_20190201_20190228.csv'>\n",
      "4\n",
      "\n",
      "\n",
      "<DirEntry 'flightlist_20191201_20191231.csv'>\n",
      "5\n",
      "\n",
      "\n",
      "<DirEntry 'flightlist_20190901_20190930.csv'>\n",
      "6\n",
      "\n",
      "\n",
      "<DirEntry 'flightlist_20210201_20210228.csv'>\n",
      "7\n",
      "\n",
      "\n",
      "<DirEntry 'flightlist_20201001_20201031.csv'>\n",
      "8\n",
      "\n",
      "\n",
      "<DirEntry 'flightlist_20190801_20190831.csv'>\n",
      "9\n",
      "\n",
      "\n",
      "<DirEntry 'flightlist_20201201_20201231.csv'>\n",
      "10\n",
      "\n",
      "\n",
      "<DirEntry 'flightlist_20201101_20201130.csv'>\n",
      "11\n",
      "\n",
      "\n",
      "<DirEntry 'flightlist_20200201_20200229.csv'>\n",
      "12\n",
      "\n",
      "\n",
      "<DirEntry 'flightlist_20200901_20200930.csv'>\n",
      "13\n",
      "\n",
      "\n",
      "<DirEntry 'flightlist_20191001_20191031.csv'>\n",
      "14\n",
      "\n",
      "\n",
      "<DirEntry 'flightlist_20190501_20190531.csv'>\n",
      "15\n",
      "\n",
      "\n",
      "<DirEntry 'flightlist_20190601_20190630.csv'>\n",
      "16\n",
      "\n",
      "\n",
      "<DirEntry 'flightlist_20190301_20190331.csv'>\n",
      "17\n",
      "\n",
      "\n",
      "<DirEntry 'flightlist_20200701_20200731.csv'>\n",
      "18\n",
      "\n",
      "\n",
      "<DirEntry 'flightlist_20200101_20200131.csv'>\n",
      "19\n",
      "\n",
      "\n",
      "<DirEntry 'flightlist_20200401_20200430.csv'>\n",
      "20\n",
      "\n",
      "\n",
      "<DirEntry 'flightlist_20210501_20210530.csv'>\n",
      "21\n",
      "\n",
      "\n",
      "<DirEntry 'flightlist_20210301_20210331.csv'>\n",
      "22\n",
      "\n",
      "\n",
      "<DirEntry 'flightlist_20200301_20200331.csv'>\n",
      "23\n",
      "\n",
      "\n",
      "<DirEntry 'flightlist_20200601_20200630.csv'>\n",
      "24\n",
      "\n",
      "\n",
      "<DirEntry 'flightlist_20200501_20200531.csv'>\n",
      "25\n",
      "\n",
      "\n",
      "<DirEntry 'flightlist_20210401_20210430.csv'>\n",
      "26\n",
      "\n",
      "\n",
      "<DirEntry 'flightlist_20210101_20210131.csv'>\n",
      "27\n",
      "\n",
      "\n",
      "<DirEntry 'flightlist_20190401_20190430.csv'>\n",
      "28\n"
     ]
    },
    {
     "name": "stderr",
     "output_type": "stream",
     "text": [
      "/Users/moritz/opt/anaconda3/lib/python3.8/site-packages/IPython/core/interactiveshell.py:3165: DtypeWarning: Columns (1) have mixed types.Specify dtype option on import or set low_memory=False.\n",
      "  has_raised = await self.run_ast_nodes(code_ast.body, cell_name,\n"
     ]
    },
    {
     "name": "stdout",
     "output_type": "stream",
     "text": [
      "\n",
      "\n",
      "<DirEntry 'flightlist_20190101_20190131.csv'>\n",
      "29\n",
      "\n",
      "\n",
      "<DirEntry 'flightlist_20190701_20190731.csv'>\n"
     ]
    }
   ],
   "source": [
    "#iterate through all flight data files and collect grouped operator/owner data\n",
    "import pandas as pd\n",
    "\n",
    "import os\n",
    "\n",
    "operator_data=pd.read_csv('aircraftDatabase-2021-07.csv')\n",
    "operator_data.operator.fillna(operator_data.owner, inplace=True)\n",
    "operator_data_filtered=operator_data.loc[:,['icao24','operator']]\n",
    "\n",
    "csv_data=pd.read_csv('flightlist_20210601_20210630.csv')\n",
    "csv_data2=csv_data[['callsign','icao24','origin','destination','firstseen','lastseen']]\n",
    "flight_data_consolidated=csv_data2.merge(operator_data_filtered, on='icao24', how='left')\n",
    "flight_data_grouped_total=flight_data_consolidated.groupby('operator').agg('count').sort_values('callsign', ascending=False)\n",
    "\n",
    "\n",
    "counter=1\n",
    "directory = r'/Users/moritz/Desktop/covid-vaccination-flight-analysis/flight_data'\n",
    "for entry in os.scandir(directory):\n",
    "    if entry.path.endswith(\".csv\") and entry.is_file():\n",
    "        print (counter)\n",
    "        csv_data=pd.read_csv(entry)\n",
    "        csv_data2=csv_data[['callsign','icao24','origin','destination','firstseen','lastseen']]\n",
    "        flight_data_consolidated=csv_data2.merge(operator_data_filtered, on='icao24', how='left')\n",
    "        flight_data_grouped=flight_data_consolidated.groupby('operator').agg('count').sort_values('callsign', ascending=False)\n",
    "        flight_data_grouped_total=pd.concat([flight_data_grouped_total,flight_data_grouped],axis=0, sort=False)\n",
    "        print ('\\n')\n",
    "        print (entry)\n",
    "        counter+=1\n",
    "\n",
    "flight_data_grouped_total=flight_data_grouped_total.groupby('operator').agg('sum').sort_values('callsign', ascending=False)\n",
    "flight_data_grouped_total.to_csv('grouped_operators.csv')        \n",
    "\n",
    "\n"
   ]
  },
  {
   "cell_type": "code",
   "execution_count": 21,
   "id": "76aad1dd",
   "metadata": {},
   "outputs": [],
   "source": [
    "#Fuzzy match operator data with Top100 airline list\n",
    "\n",
    "from fuzzywuzzy import fuzz\n",
    "from fuzzywuzzy import process\n",
    "\n",
    "airline_mapping=pd.DataFrame(columns=['operator','airline_match','fuzzy_rank'])\n",
    "\n",
    "for operator_ in list(flight_data_grouped_total.index):\n",
    "    dict_={}\n",
    "    for airline in top100_airlines:\n",
    "        dict_[airline]=fuzz.ratio(operator_,airline)\n",
    "    maximum_fuzzy_match=max(dict_, key=lambda key: dict_[key])\n",
    "    maximum_fuzzy_value=max(dict_.values())\n",
    "    airline_mapping.loc[len(airline_mapping.index)]=[operator_,maximum_fuzzy_match,maximum_fuzzy_value]\n",
    "\n",
    "\n",
    "airline_mapping.to_csv('airline_mapping.csv')\n",
    "\n",
    "#use fuzzy-matched data and manually adjust/ correct (overall, reduced # of relevant flights from #57297620 to 32051497)\n",
    "airline_mapping_corrected=pd.read_csv('airline_mapping_manual.csv')\n",
    "\n",
    "\n",
    "flight_data_grouped_corrected=flight_data_grouped_total.merge(airline_mapping_corrected, on='operator', how='left')\n",
    "\n",
    "relevant_operators=flight_data_grouped_corrected[~flight_data_grouped_corrected['airline_match'].isnull()]['operator']\n"
   ]
  },
  {
   "cell_type": "code",
   "execution_count": 47,
   "id": "01ed31e2",
   "metadata": {
    "scrolled": false
   },
   "outputs": [
    {
     "name": "stdout",
     "output_type": "stream",
     "text": [
      "1\n",
      "\n",
      "\n",
      "<DirEntry 'flightlist_20200801_20200831.csv'>\n",
      "2\n",
      "\n",
      "\n",
      "<DirEntry 'flightlist_20191101_20191130.csv'>\n",
      "3\n",
      "\n",
      "\n",
      "<DirEntry 'flightlist_20190201_20190228.csv'>\n",
      "4\n",
      "\n",
      "\n",
      "<DirEntry 'flightlist_20191201_20191231.csv'>\n",
      "5\n",
      "\n",
      "\n",
      "<DirEntry 'flightlist_20190901_20190930.csv'>\n",
      "6\n",
      "\n",
      "\n",
      "<DirEntry 'flightlist_20210201_20210228.csv'>\n",
      "7\n",
      "\n",
      "\n",
      "<DirEntry 'flightlist_20201001_20201031.csv'>\n",
      "8\n",
      "\n",
      "\n",
      "<DirEntry 'flightlist_20190801_20190831.csv'>\n",
      "9\n",
      "\n",
      "\n",
      "<DirEntry 'flightlist_20201201_20201231.csv'>\n",
      "10\n",
      "\n",
      "\n",
      "<DirEntry 'flightlist_20201101_20201130.csv'>\n",
      "11\n",
      "\n",
      "\n",
      "<DirEntry 'flightlist_20200201_20200229.csv'>\n",
      "12\n",
      "\n",
      "\n",
      "<DirEntry 'flightlist_20200901_20200930.csv'>\n",
      "13\n",
      "\n",
      "\n",
      "<DirEntry 'flightlist_20191001_20191031.csv'>\n",
      "14\n",
      "\n",
      "\n",
      "<DirEntry 'flightlist_20190501_20190531.csv'>\n",
      "15\n",
      "\n",
      "\n",
      "<DirEntry 'flightlist_20190601_20190630.csv'>\n",
      "16\n",
      "\n",
      "\n",
      "<DirEntry 'flightlist_20190301_20190331.csv'>\n",
      "17\n",
      "\n",
      "\n",
      "<DirEntry 'flightlist_20200701_20200731.csv'>\n",
      "18\n",
      "\n",
      "\n",
      "<DirEntry 'flightlist_20200101_20200131.csv'>\n",
      "19\n",
      "\n",
      "\n",
      "<DirEntry 'flightlist_20200401_20200430.csv'>\n",
      "20\n",
      "\n",
      "\n",
      "<DirEntry 'flightlist_20210501_20210530.csv'>\n",
      "21\n",
      "\n",
      "\n",
      "<DirEntry 'flightlist_20210301_20210331.csv'>\n",
      "22\n",
      "\n",
      "\n",
      "<DirEntry 'flightlist_20200301_20200331.csv'>\n",
      "23\n",
      "\n",
      "\n",
      "<DirEntry 'flightlist_20200601_20200630.csv'>\n",
      "24\n",
      "\n",
      "\n",
      "<DirEntry 'flightlist_20200501_20200531.csv'>\n",
      "25\n",
      "\n",
      "\n",
      "<DirEntry 'flightlist_20210401_20210430.csv'>\n",
      "26\n",
      "\n",
      "\n",
      "<DirEntry 'flightlist_20210101_20210131.csv'>\n",
      "27\n",
      "\n",
      "\n",
      "<DirEntry 'flightlist_20190401_20190430.csv'>\n",
      "28\n"
     ]
    },
    {
     "name": "stderr",
     "output_type": "stream",
     "text": [
      "/Users/moritz/opt/anaconda3/lib/python3.8/site-packages/IPython/core/interactiveshell.py:3165: DtypeWarning: Columns (1) have mixed types.Specify dtype option on import or set low_memory=False.\n",
      "  has_raised = await self.run_ast_nodes(code_ast.body, cell_name,\n"
     ]
    },
    {
     "name": "stdout",
     "output_type": "stream",
     "text": [
      "\n",
      "\n",
      "<DirEntry 'flightlist_20190101_20190131.csv'>\n",
      "29\n",
      "\n",
      "\n",
      "<DirEntry 'flightlist_20190701_20190731.csv'>\n"
     ]
    },
    {
     "data": {
      "text/html": [
       "<div>\n",
       "<style scoped>\n",
       "    .dataframe tbody tr th:only-of-type {\n",
       "        vertical-align: middle;\n",
       "    }\n",
       "\n",
       "    .dataframe tbody tr th {\n",
       "        vertical-align: top;\n",
       "    }\n",
       "\n",
       "    .dataframe thead th {\n",
       "        text-align: right;\n",
       "    }\n",
       "</style>\n",
       "<table border=\"1\" class=\"dataframe\">\n",
       "  <thead>\n",
       "    <tr style=\"text-align: right;\">\n",
       "      <th></th>\n",
       "      <th>callsign</th>\n",
       "      <th>number</th>\n",
       "      <th>icao24</th>\n",
       "      <th>registration</th>\n",
       "      <th>typecode</th>\n",
       "      <th>origin</th>\n",
       "      <th>destination</th>\n",
       "      <th>firstseen</th>\n",
       "      <th>lastseen</th>\n",
       "      <th>day</th>\n",
       "      <th>latitude_1</th>\n",
       "      <th>longitude_1</th>\n",
       "      <th>altitude_1</th>\n",
       "      <th>latitude_2</th>\n",
       "      <th>longitude_2</th>\n",
       "      <th>altitude_2</th>\n",
       "    </tr>\n",
       "  </thead>\n",
       "  <tbody>\n",
       "    <tr>\n",
       "      <th>0</th>\n",
       "      <td>ANA106</td>\n",
       "      <td>NaN</td>\n",
       "      <td>867f82</td>\n",
       "      <td>NaN</td>\n",
       "      <td>NaN</td>\n",
       "      <td>KORD</td>\n",
       "      <td>KLAX</td>\n",
       "      <td>2019-06-30 00:03:35+00:00</td>\n",
       "      <td>2019-07-01 00:13:28+00:00</td>\n",
       "      <td>2019-07-01 00:00:00+00:00</td>\n",
       "      <td>41.979309</td>\n",
       "      <td>-87.824083</td>\n",
       "      <td>609.6</td>\n",
       "      <td>33.953018</td>\n",
       "      <td>-118.393324</td>\n",
       "      <td>76.20</td>\n",
       "    </tr>\n",
       "    <tr>\n",
       "      <th>1</th>\n",
       "      <td>KQA204</td>\n",
       "      <td>KQ204</td>\n",
       "      <td>04c147</td>\n",
       "      <td>5Y-CYA</td>\n",
       "      <td>B738</td>\n",
       "      <td>FAOR</td>\n",
       "      <td>VABB</td>\n",
       "      <td>2019-06-30 00:45:42+00:00</td>\n",
       "      <td>2019-07-01 00:42:47+00:00</td>\n",
       "      <td>2019-07-01 00:00:00+00:00</td>\n",
       "      <td>-26.109614</td>\n",
       "      <td>28.245638</td>\n",
       "      <td>1524.0</td>\n",
       "      <td>19.088745</td>\n",
       "      <td>72.869911</td>\n",
       "      <td>99.06</td>\n",
       "    </tr>\n",
       "    <tr>\n",
       "      <th>2</th>\n",
       "      <td>CES771</td>\n",
       "      <td>MU771</td>\n",
       "      <td>781602</td>\n",
       "      <td>NaN</td>\n",
       "      <td>NaN</td>\n",
       "      <td>YSSY</td>\n",
       "      <td>EHAM</td>\n",
       "      <td>2019-06-30 01:09:12+00:00</td>\n",
       "      <td>2019-07-01 04:09:59+00:00</td>\n",
       "      <td>2019-07-01 00:00:00+00:00</td>\n",
       "      <td>-33.956314</td>\n",
       "      <td>151.178601</td>\n",
       "      <td>0.0</td>\n",
       "      <td>52.316059</td>\n",
       "      <td>4.741402</td>\n",
       "      <td>NaN</td>\n",
       "    </tr>\n",
       "    <tr>\n",
       "      <th>3</th>\n",
       "      <td>CSN465</td>\n",
       "      <td>NaN</td>\n",
       "      <td>7805aa</td>\n",
       "      <td>B-2075</td>\n",
       "      <td>B77L</td>\n",
       "      <td>KLAX</td>\n",
       "      <td>EGSS</td>\n",
       "      <td>2019-06-30 01:43:14+00:00</td>\n",
       "      <td>2019-07-01 06:26:53+00:00</td>\n",
       "      <td>2019-07-01 00:00:00+00:00</td>\n",
       "      <td>33.935715</td>\n",
       "      <td>-118.421014</td>\n",
       "      <td>0.0</td>\n",
       "      <td>51.900392</td>\n",
       "      <td>0.257943</td>\n",
       "      <td>114.30</td>\n",
       "    </tr>\n",
       "    <tr>\n",
       "      <th>4</th>\n",
       "      <td>CHH7921</td>\n",
       "      <td>NaN</td>\n",
       "      <td>780ff1</td>\n",
       "      <td>B-7880</td>\n",
       "      <td>B789</td>\n",
       "      <td>NaN</td>\n",
       "      <td>EBMB</td>\n",
       "      <td>2019-06-30 01:53:25+00:00</td>\n",
       "      <td>2019-07-01 05:40:58+00:00</td>\n",
       "      <td>2019-07-01 00:00:00+00:00</td>\n",
       "      <td>29.960369</td>\n",
       "      <td>106.983984</td>\n",
       "      <td>3657.6</td>\n",
       "      <td>50.903412</td>\n",
       "      <td>4.542624</td>\n",
       "      <td>83.82</td>\n",
       "    </tr>\n",
       "    <tr>\n",
       "      <th>...</th>\n",
       "      <td>...</td>\n",
       "      <td>...</td>\n",
       "      <td>...</td>\n",
       "      <td>...</td>\n",
       "      <td>...</td>\n",
       "      <td>...</td>\n",
       "      <td>...</td>\n",
       "      <td>...</td>\n",
       "      <td>...</td>\n",
       "      <td>...</td>\n",
       "      <td>...</td>\n",
       "      <td>...</td>\n",
       "      <td>...</td>\n",
       "      <td>...</td>\n",
       "      <td>...</td>\n",
       "      <td>...</td>\n",
       "    </tr>\n",
       "    <tr>\n",
       "      <th>2898410</th>\n",
       "      <td>JIA5636</td>\n",
       "      <td>NaN</td>\n",
       "      <td>a67407</td>\n",
       "      <td>N515AE</td>\n",
       "      <td>CRJ7</td>\n",
       "      <td>NaN</td>\n",
       "      <td>NaN</td>\n",
       "      <td>2019-07-31 23:46:13+00:00</td>\n",
       "      <td>2019-07-31 23:56:49+00:00</td>\n",
       "      <td>2019-07-31 00:00:00+00:00</td>\n",
       "      <td>34.783972</td>\n",
       "      <td>-81.011868</td>\n",
       "      <td>4267.2</td>\n",
       "      <td>33.878857</td>\n",
       "      <td>-81.615028</td>\n",
       "      <td>3406.14</td>\n",
       "    </tr>\n",
       "    <tr>\n",
       "      <th>2898411</th>\n",
       "      <td>SVA1910</td>\n",
       "      <td>NaN</td>\n",
       "      <td>710500</td>\n",
       "      <td>NaN</td>\n",
       "      <td>NaN</td>\n",
       "      <td>NaN</td>\n",
       "      <td>OETH</td>\n",
       "      <td>2019-07-31 23:46:14+00:00</td>\n",
       "      <td>2019-07-31 23:59:20+00:00</td>\n",
       "      <td>2019-07-31 00:00:00+00:00</td>\n",
       "      <td>24.668610</td>\n",
       "      <td>45.408020</td>\n",
       "      <td>8534.4</td>\n",
       "      <td>25.215363</td>\n",
       "      <td>46.414337</td>\n",
       "      <td>2727.96</td>\n",
       "    </tr>\n",
       "    <tr>\n",
       "      <th>2898412</th>\n",
       "      <td>SJY250</td>\n",
       "      <td>NaN</td>\n",
       "      <td>8a06b3</td>\n",
       "      <td>PK-CRH</td>\n",
       "      <td>B738</td>\n",
       "      <td>NaN</td>\n",
       "      <td>NaN</td>\n",
       "      <td>2019-07-31 23:46:17+00:00</td>\n",
       "      <td>2019-07-31 23:59:20+00:00</td>\n",
       "      <td>2019-07-31 00:00:00+00:00</td>\n",
       "      <td>-6.237076</td>\n",
       "      <td>106.709041</td>\n",
       "      <td>2133.6</td>\n",
       "      <td>-6.574448</td>\n",
       "      <td>108.059987</td>\n",
       "      <td>9677.40</td>\n",
       "    </tr>\n",
       "    <tr>\n",
       "      <th>2898413</th>\n",
       "      <td>SKW3787</td>\n",
       "      <td>NaN</td>\n",
       "      <td>ab161b</td>\n",
       "      <td>N813SK</td>\n",
       "      <td>CRJ9</td>\n",
       "      <td>KGRR</td>\n",
       "      <td>NaN</td>\n",
       "      <td>2019-07-31 23:47:43+00:00</td>\n",
       "      <td>2019-07-31 23:58:59+00:00</td>\n",
       "      <td>2019-07-31 00:00:00+00:00</td>\n",
       "      <td>42.879456</td>\n",
       "      <td>-85.516173</td>\n",
       "      <td>0.0</td>\n",
       "      <td>42.852173</td>\n",
       "      <td>-84.292276</td>\n",
       "      <td>5135.88</td>\n",
       "    </tr>\n",
       "    <tr>\n",
       "      <th>2898414</th>\n",
       "      <td>MTN5</td>\n",
       "      <td>NaN</td>\n",
       "      <td>adbe4a</td>\n",
       "      <td>N985FX</td>\n",
       "      <td>C208</td>\n",
       "      <td>KESN</td>\n",
       "      <td>MD43</td>\n",
       "      <td>2019-07-31 23:49:27+00:00</td>\n",
       "      <td>2019-07-31 23:59:50+00:00</td>\n",
       "      <td>2019-07-31 00:00:00+00:00</td>\n",
       "      <td>38.764747</td>\n",
       "      <td>-76.119751</td>\n",
       "      <td>914.4</td>\n",
       "      <td>39.079719</td>\n",
       "      <td>-76.564209</td>\n",
       "      <td>548.64</td>\n",
       "    </tr>\n",
       "  </tbody>\n",
       "</table>\n",
       "<p>2898415 rows × 16 columns</p>\n",
       "</div>"
      ],
      "text/plain": [
       "        callsign number  icao24 registration typecode origin destination  \\\n",
       "0         ANA106    NaN  867f82          NaN      NaN   KORD        KLAX   \n",
       "1         KQA204  KQ204  04c147       5Y-CYA     B738   FAOR        VABB   \n",
       "2         CES771  MU771  781602          NaN      NaN   YSSY        EHAM   \n",
       "3         CSN465    NaN  7805aa       B-2075     B77L   KLAX        EGSS   \n",
       "4        CHH7921    NaN  780ff1       B-7880     B789    NaN        EBMB   \n",
       "...          ...    ...     ...          ...      ...    ...         ...   \n",
       "2898410  JIA5636    NaN  a67407       N515AE     CRJ7    NaN         NaN   \n",
       "2898411  SVA1910    NaN  710500          NaN      NaN    NaN        OETH   \n",
       "2898412   SJY250    NaN  8a06b3       PK-CRH     B738    NaN         NaN   \n",
       "2898413  SKW3787    NaN  ab161b       N813SK     CRJ9   KGRR         NaN   \n",
       "2898414     MTN5    NaN  adbe4a       N985FX     C208   KESN        MD43   \n",
       "\n",
       "                         firstseen                   lastseen  \\\n",
       "0        2019-06-30 00:03:35+00:00  2019-07-01 00:13:28+00:00   \n",
       "1        2019-06-30 00:45:42+00:00  2019-07-01 00:42:47+00:00   \n",
       "2        2019-06-30 01:09:12+00:00  2019-07-01 04:09:59+00:00   \n",
       "3        2019-06-30 01:43:14+00:00  2019-07-01 06:26:53+00:00   \n",
       "4        2019-06-30 01:53:25+00:00  2019-07-01 05:40:58+00:00   \n",
       "...                            ...                        ...   \n",
       "2898410  2019-07-31 23:46:13+00:00  2019-07-31 23:56:49+00:00   \n",
       "2898411  2019-07-31 23:46:14+00:00  2019-07-31 23:59:20+00:00   \n",
       "2898412  2019-07-31 23:46:17+00:00  2019-07-31 23:59:20+00:00   \n",
       "2898413  2019-07-31 23:47:43+00:00  2019-07-31 23:58:59+00:00   \n",
       "2898414  2019-07-31 23:49:27+00:00  2019-07-31 23:59:50+00:00   \n",
       "\n",
       "                               day  latitude_1  longitude_1  altitude_1  \\\n",
       "0        2019-07-01 00:00:00+00:00   41.979309   -87.824083       609.6   \n",
       "1        2019-07-01 00:00:00+00:00  -26.109614    28.245638      1524.0   \n",
       "2        2019-07-01 00:00:00+00:00  -33.956314   151.178601         0.0   \n",
       "3        2019-07-01 00:00:00+00:00   33.935715  -118.421014         0.0   \n",
       "4        2019-07-01 00:00:00+00:00   29.960369   106.983984      3657.6   \n",
       "...                            ...         ...          ...         ...   \n",
       "2898410  2019-07-31 00:00:00+00:00   34.783972   -81.011868      4267.2   \n",
       "2898411  2019-07-31 00:00:00+00:00   24.668610    45.408020      8534.4   \n",
       "2898412  2019-07-31 00:00:00+00:00   -6.237076   106.709041      2133.6   \n",
       "2898413  2019-07-31 00:00:00+00:00   42.879456   -85.516173         0.0   \n",
       "2898414  2019-07-31 00:00:00+00:00   38.764747   -76.119751       914.4   \n",
       "\n",
       "         latitude_2  longitude_2  altitude_2  \n",
       "0         33.953018  -118.393324       76.20  \n",
       "1         19.088745    72.869911       99.06  \n",
       "2         52.316059     4.741402         NaN  \n",
       "3         51.900392     0.257943      114.30  \n",
       "4         50.903412     4.542624       83.82  \n",
       "...             ...          ...         ...  \n",
       "2898410   33.878857   -81.615028     3406.14  \n",
       "2898411   25.215363    46.414337     2727.96  \n",
       "2898412   -6.574448   108.059987     9677.40  \n",
       "2898413   42.852173   -84.292276     5135.88  \n",
       "2898414   39.079719   -76.564209      548.64  \n",
       "\n",
       "[2898415 rows x 16 columns]"
      ]
     },
     "execution_count": 47,
     "metadata": {},
     "output_type": "execute_result"
    }
   ],
   "source": [
    "#concatenate all monthly flight data files into one long table\n",
    "import pandas as pd\n",
    "\n",
    "import os\n",
    "\n",
    "flight_data=pd.read_csv('flightlist_20210601_20210630.csv')\n",
    "flight_data_consolidated=flight_data.merge(operator_data_filtered, on='icao24', how='left')        \n",
    "flight_data_consolidated=flight_data_consolidated[flight_data_consolidated['operator'].isin(relevant_operators)]\n",
    "flight_data_consolidated2=flight_data_consolidated[['callsign','icao24','origin','destination','firstseen','lastseen']] \n",
    "\n",
    "\n",
    "\n",
    "counter=1\n",
    "directory = r'/Users/moritz/Desktop/covid-vaccination-flight-analysis/flight_data'\n",
    "for entry in os.scandir(directory):\n",
    "    if entry.path.endswith(\".csv\") and entry.is_file():\n",
    "        print (counter)\n",
    "        flight_data=pd.read_csv(entry)\n",
    "        flight_data_com=flight_data.merge(operator_data_filtered, on='icao24', how='left')        \n",
    "        flight_data_com=flight_data_com[flight_data_com['operator'].isin(relevant_operators)]\n",
    "        flight_data_com=flight_data_com[['callsign','icao24','origin','destination','firstseen','lastseen']]  \n",
    "        \n",
    "        \n",
    "        flight_data_consolidated2=pd.concat([flight_data_consolidated2,flight_data_com],axis=0, sort=False)\n",
    "\n",
    "\n",
    "        print ('\\n')\n",
    "        print (entry)\n",
    "        counter+=1\n",
    "\n",
    "flight_data_consolidated2.to_csv(f'flight_data_cons_1.csv')\n",
    "\n",
    "  "
   ]
  },
  {
   "cell_type": "code",
   "execution_count": 3,
   "id": "e2d77719",
   "metadata": {},
   "outputs": [
    {
     "data": {
      "text/html": [
       "<div>\n",
       "<style scoped>\n",
       "    .dataframe tbody tr th:only-of-type {\n",
       "        vertical-align: middle;\n",
       "    }\n",
       "\n",
       "    .dataframe tbody tr th {\n",
       "        vertical-align: top;\n",
       "    }\n",
       "\n",
       "    .dataframe thead th {\n",
       "        text-align: right;\n",
       "    }\n",
       "</style>\n",
       "<table border=\"1\" class=\"dataframe\">\n",
       "  <thead>\n",
       "    <tr style=\"text-align: right;\">\n",
       "      <th></th>\n",
       "      <th>Unnamed: 0</th>\n",
       "      <th>callsign</th>\n",
       "      <th>icao24</th>\n",
       "      <th>origin</th>\n",
       "      <th>destination</th>\n",
       "      <th>firstseen</th>\n",
       "      <th>lastseen</th>\n",
       "      <th>firstseen_num</th>\n",
       "      <th>lastseen_num</th>\n",
       "      <th>date_num</th>\n",
       "      <th>...</th>\n",
       "      <th>elevation_ft</th>\n",
       "      <th>continent</th>\n",
       "      <th>iso_country</th>\n",
       "      <th>iso_region</th>\n",
       "      <th>municipality</th>\n",
       "      <th>gps_code</th>\n",
       "      <th>iata_code</th>\n",
       "      <th>local_code</th>\n",
       "      <th>coordinates</th>\n",
       "      <th>iso_country_3dig</th>\n",
       "    </tr>\n",
       "  </thead>\n",
       "  <tbody>\n",
       "    <tr>\n",
       "      <th>0</th>\n",
       "      <td>1</td>\n",
       "      <td>FDX5021</td>\n",
       "      <td>ac1e56</td>\n",
       "      <td>KOAK</td>\n",
       "      <td>RJBB</td>\n",
       "      <td>2021-05-31 01:34:38+00:00</td>\n",
       "      <td>2021-06-01 10:22:16+00:00</td>\n",
       "      <td>2021-05-31 01:34:38</td>\n",
       "      <td>2021-06-01 10:22:16</td>\n",
       "      <td>2021-06-01</td>\n",
       "      <td>...</td>\n",
       "      <td>9.0</td>\n",
       "      <td>NaN</td>\n",
       "      <td>US</td>\n",
       "      <td>US-CA</td>\n",
       "      <td>Oakland</td>\n",
       "      <td>KOAK</td>\n",
       "      <td>OAK</td>\n",
       "      <td>OAK</td>\n",
       "      <td>-122.221001, 37.721298</td>\n",
       "      <td>USA</td>\n",
       "    </tr>\n",
       "    <tr>\n",
       "      <th>1</th>\n",
       "      <td>3</td>\n",
       "      <td>AMX9028</td>\n",
       "      <td>0d09ec</td>\n",
       "      <td>NaN</td>\n",
       "      <td>NaN</td>\n",
       "      <td>2021-05-31 02:40:46+00:00</td>\n",
       "      <td>2021-06-01 07:27:09+00:00</td>\n",
       "      <td>2021-05-31 02:40:46</td>\n",
       "      <td>2021-06-01 07:27:09</td>\n",
       "      <td>2021-06-01</td>\n",
       "      <td>...</td>\n",
       "      <td>NaN</td>\n",
       "      <td>NaN</td>\n",
       "      <td>NaN</td>\n",
       "      <td>NaN</td>\n",
       "      <td>NaN</td>\n",
       "      <td>NaN</td>\n",
       "      <td>NaN</td>\n",
       "      <td>NaN</td>\n",
       "      <td>NaN</td>\n",
       "      <td>NaN</td>\n",
       "    </tr>\n",
       "    <tr>\n",
       "      <th>2</th>\n",
       "      <td>4</td>\n",
       "      <td>CCA673</td>\n",
       "      <td>781161</td>\n",
       "      <td>KLAX</td>\n",
       "      <td>LIMC</td>\n",
       "      <td>2021-05-31 03:32:26+00:00</td>\n",
       "      <td>2021-06-01 07:33:19+00:00</td>\n",
       "      <td>2021-05-31 03:32:26</td>\n",
       "      <td>2021-06-01 07:33:19</td>\n",
       "      <td>2021-06-01</td>\n",
       "      <td>...</td>\n",
       "      <td>125.0</td>\n",
       "      <td>NaN</td>\n",
       "      <td>US</td>\n",
       "      <td>US-CA</td>\n",
       "      <td>Los Angeles</td>\n",
       "      <td>KLAX</td>\n",
       "      <td>LAX</td>\n",
       "      <td>LAX</td>\n",
       "      <td>-118.407997, 33.942501</td>\n",
       "      <td>USA</td>\n",
       "    </tr>\n",
       "    <tr>\n",
       "      <th>3</th>\n",
       "      <td>5</td>\n",
       "      <td>GIA9818</td>\n",
       "      <td>8a03c3</td>\n",
       "      <td>NaN</td>\n",
       "      <td>WIII</td>\n",
       "      <td>2021-05-31 04:53:18+00:00</td>\n",
       "      <td>2021-06-01 05:18:58+00:00</td>\n",
       "      <td>2021-05-31 04:53:18</td>\n",
       "      <td>2021-06-01 05:18:58</td>\n",
       "      <td>2021-06-01</td>\n",
       "      <td>...</td>\n",
       "      <td>NaN</td>\n",
       "      <td>NaN</td>\n",
       "      <td>NaN</td>\n",
       "      <td>NaN</td>\n",
       "      <td>NaN</td>\n",
       "      <td>NaN</td>\n",
       "      <td>NaN</td>\n",
       "      <td>NaN</td>\n",
       "      <td>NaN</td>\n",
       "      <td>NaN</td>\n",
       "    </tr>\n",
       "    <tr>\n",
       "      <th>4</th>\n",
       "      <td>7</td>\n",
       "      <td>CCA597</td>\n",
       "      <td>781346</td>\n",
       "      <td>WSSS</td>\n",
       "      <td>LIMC</td>\n",
       "      <td>2021-05-31 06:47:24+00:00</td>\n",
       "      <td>2021-06-01 08:08:09+00:00</td>\n",
       "      <td>2021-05-31 06:47:24</td>\n",
       "      <td>2021-06-01 08:08:09</td>\n",
       "      <td>2021-06-01</td>\n",
       "      <td>...</td>\n",
       "      <td>22.0</td>\n",
       "      <td>AS</td>\n",
       "      <td>SG</td>\n",
       "      <td>SG-04</td>\n",
       "      <td>Singapore</td>\n",
       "      <td>WSSS</td>\n",
       "      <td>SIN</td>\n",
       "      <td>NaN</td>\n",
       "      <td>103.994003, 1.35019</td>\n",
       "      <td>SGP</td>\n",
       "    </tr>\n",
       "    <tr>\n",
       "      <th>...</th>\n",
       "      <td>...</td>\n",
       "      <td>...</td>\n",
       "      <td>...</td>\n",
       "      <td>...</td>\n",
       "      <td>...</td>\n",
       "      <td>...</td>\n",
       "      <td>...</td>\n",
       "      <td>...</td>\n",
       "      <td>...</td>\n",
       "      <td>...</td>\n",
       "      <td>...</td>\n",
       "      <td>...</td>\n",
       "      <td>...</td>\n",
       "      <td>...</td>\n",
       "      <td>...</td>\n",
       "      <td>...</td>\n",
       "      <td>...</td>\n",
       "      <td>...</td>\n",
       "      <td>...</td>\n",
       "      <td>...</td>\n",
       "      <td>...</td>\n",
       "    </tr>\n",
       "    <tr>\n",
       "      <th>25246118</th>\n",
       "      <td>2898397</td>\n",
       "      <td>QFA796</td>\n",
       "      <td>7c6d90</td>\n",
       "      <td>YMML</td>\n",
       "      <td>NaN</td>\n",
       "      <td>2019-07-31 23:42:57+00:00</td>\n",
       "      <td>2019-07-31 23:57:46+00:00</td>\n",
       "      <td>2019-07-31 23:42:57</td>\n",
       "      <td>2019-07-31 23:57:46</td>\n",
       "      <td>2019-07-31</td>\n",
       "      <td>...</td>\n",
       "      <td>434.0</td>\n",
       "      <td>OC</td>\n",
       "      <td>AU</td>\n",
       "      <td>AU-VIC</td>\n",
       "      <td>Melbourne</td>\n",
       "      <td>YMML</td>\n",
       "      <td>MEL</td>\n",
       "      <td>NaN</td>\n",
       "      <td>144.843002, -37.673302</td>\n",
       "      <td>AUS</td>\n",
       "    </tr>\n",
       "    <tr>\n",
       "      <th>25246119</th>\n",
       "      <td>2898398</td>\n",
       "      <td>CQH8633</td>\n",
       "      <td>78060b</td>\n",
       "      <td>NaN</td>\n",
       "      <td>NaN</td>\n",
       "      <td>2019-07-31 23:42:58+00:00</td>\n",
       "      <td>2019-07-31 23:56:55+00:00</td>\n",
       "      <td>2019-07-31 23:42:58</td>\n",
       "      <td>2019-07-31 23:56:55</td>\n",
       "      <td>2019-07-31</td>\n",
       "      <td>...</td>\n",
       "      <td>NaN</td>\n",
       "      <td>NaN</td>\n",
       "      <td>NaN</td>\n",
       "      <td>NaN</td>\n",
       "      <td>NaN</td>\n",
       "      <td>NaN</td>\n",
       "      <td>NaN</td>\n",
       "      <td>NaN</td>\n",
       "      <td>NaN</td>\n",
       "      <td>NaN</td>\n",
       "    </tr>\n",
       "    <tr>\n",
       "      <th>25246120</th>\n",
       "      <td>2898403</td>\n",
       "      <td>CES5919</td>\n",
       "      <td>7bb073</td>\n",
       "      <td>NaN</td>\n",
       "      <td>NaN</td>\n",
       "      <td>2019-07-31 23:44:20+00:00</td>\n",
       "      <td>2019-07-31 23:58:56+00:00</td>\n",
       "      <td>2019-07-31 23:44:20</td>\n",
       "      <td>2019-07-31 23:58:56</td>\n",
       "      <td>2019-07-31</td>\n",
       "      <td>...</td>\n",
       "      <td>NaN</td>\n",
       "      <td>NaN</td>\n",
       "      <td>NaN</td>\n",
       "      <td>NaN</td>\n",
       "      <td>NaN</td>\n",
       "      <td>NaN</td>\n",
       "      <td>NaN</td>\n",
       "      <td>NaN</td>\n",
       "      <td>NaN</td>\n",
       "      <td>NaN</td>\n",
       "    </tr>\n",
       "    <tr>\n",
       "      <th>25246121</th>\n",
       "      <td>2898408</td>\n",
       "      <td>CTV792</td>\n",
       "      <td>8a0377</td>\n",
       "      <td>NaN</td>\n",
       "      <td>NaN</td>\n",
       "      <td>2019-07-31 23:44:53+00:00</td>\n",
       "      <td>2019-07-31 23:56:58+00:00</td>\n",
       "      <td>2019-07-31 23:44:53</td>\n",
       "      <td>2019-07-31 23:56:58</td>\n",
       "      <td>2019-07-31</td>\n",
       "      <td>...</td>\n",
       "      <td>NaN</td>\n",
       "      <td>NaN</td>\n",
       "      <td>NaN</td>\n",
       "      <td>NaN</td>\n",
       "      <td>NaN</td>\n",
       "      <td>NaN</td>\n",
       "      <td>NaN</td>\n",
       "      <td>NaN</td>\n",
       "      <td>NaN</td>\n",
       "      <td>NaN</td>\n",
       "    </tr>\n",
       "    <tr>\n",
       "      <th>25246122</th>\n",
       "      <td>2898410</td>\n",
       "      <td>JIA5636</td>\n",
       "      <td>a67407</td>\n",
       "      <td>NaN</td>\n",
       "      <td>NaN</td>\n",
       "      <td>2019-07-31 23:46:13+00:00</td>\n",
       "      <td>2019-07-31 23:56:49+00:00</td>\n",
       "      <td>2019-07-31 23:46:13</td>\n",
       "      <td>2019-07-31 23:56:49</td>\n",
       "      <td>2019-07-31</td>\n",
       "      <td>...</td>\n",
       "      <td>NaN</td>\n",
       "      <td>NaN</td>\n",
       "      <td>NaN</td>\n",
       "      <td>NaN</td>\n",
       "      <td>NaN</td>\n",
       "      <td>NaN</td>\n",
       "      <td>NaN</td>\n",
       "      <td>NaN</td>\n",
       "      <td>NaN</td>\n",
       "      <td>NaN</td>\n",
       "    </tr>\n",
       "  </tbody>\n",
       "</table>\n",
       "<p>25246123 rows × 23 columns</p>\n",
       "</div>"
      ],
      "text/plain": [
       "          Unnamed: 0 callsign  icao24 origin destination  \\\n",
       "0                  1  FDX5021  ac1e56   KOAK        RJBB   \n",
       "1                  3  AMX9028  0d09ec    NaN         NaN   \n",
       "2                  4   CCA673  781161   KLAX        LIMC   \n",
       "3                  5  GIA9818  8a03c3    NaN        WIII   \n",
       "4                  7   CCA597  781346   WSSS        LIMC   \n",
       "...              ...      ...     ...    ...         ...   \n",
       "25246118     2898397   QFA796  7c6d90   YMML         NaN   \n",
       "25246119     2898398  CQH8633  78060b    NaN         NaN   \n",
       "25246120     2898403  CES5919  7bb073    NaN         NaN   \n",
       "25246121     2898408   CTV792  8a0377    NaN         NaN   \n",
       "25246122     2898410  JIA5636  a67407    NaN         NaN   \n",
       "\n",
       "                          firstseen                   lastseen  \\\n",
       "0         2021-05-31 01:34:38+00:00  2021-06-01 10:22:16+00:00   \n",
       "1         2021-05-31 02:40:46+00:00  2021-06-01 07:27:09+00:00   \n",
       "2         2021-05-31 03:32:26+00:00  2021-06-01 07:33:19+00:00   \n",
       "3         2021-05-31 04:53:18+00:00  2021-06-01 05:18:58+00:00   \n",
       "4         2021-05-31 06:47:24+00:00  2021-06-01 08:08:09+00:00   \n",
       "...                             ...                        ...   \n",
       "25246118  2019-07-31 23:42:57+00:00  2019-07-31 23:57:46+00:00   \n",
       "25246119  2019-07-31 23:42:58+00:00  2019-07-31 23:56:55+00:00   \n",
       "25246120  2019-07-31 23:44:20+00:00  2019-07-31 23:58:56+00:00   \n",
       "25246121  2019-07-31 23:44:53+00:00  2019-07-31 23:56:58+00:00   \n",
       "25246122  2019-07-31 23:46:13+00:00  2019-07-31 23:56:49+00:00   \n",
       "\n",
       "               firstseen_num        lastseen_num    date_num  ...  \\\n",
       "0        2021-05-31 01:34:38 2021-06-01 10:22:16  2021-06-01  ...   \n",
       "1        2021-05-31 02:40:46 2021-06-01 07:27:09  2021-06-01  ...   \n",
       "2        2021-05-31 03:32:26 2021-06-01 07:33:19  2021-06-01  ...   \n",
       "3        2021-05-31 04:53:18 2021-06-01 05:18:58  2021-06-01  ...   \n",
       "4        2021-05-31 06:47:24 2021-06-01 08:08:09  2021-06-01  ...   \n",
       "...                      ...                 ...         ...  ...   \n",
       "25246118 2019-07-31 23:42:57 2019-07-31 23:57:46  2019-07-31  ...   \n",
       "25246119 2019-07-31 23:42:58 2019-07-31 23:56:55  2019-07-31  ...   \n",
       "25246120 2019-07-31 23:44:20 2019-07-31 23:58:56  2019-07-31  ...   \n",
       "25246121 2019-07-31 23:44:53 2019-07-31 23:56:58  2019-07-31  ...   \n",
       "25246122 2019-07-31 23:46:13 2019-07-31 23:56:49  2019-07-31  ...   \n",
       "\n",
       "         elevation_ft continent iso_country  iso_region municipality gps_code  \\\n",
       "0                 9.0       NaN          US       US-CA      Oakland     KOAK   \n",
       "1                 NaN       NaN         NaN         NaN          NaN      NaN   \n",
       "2               125.0       NaN          US       US-CA  Los Angeles     KLAX   \n",
       "3                 NaN       NaN         NaN         NaN          NaN      NaN   \n",
       "4                22.0        AS          SG       SG-04    Singapore     WSSS   \n",
       "...               ...       ...         ...         ...          ...      ...   \n",
       "25246118        434.0        OC          AU      AU-VIC    Melbourne     YMML   \n",
       "25246119          NaN       NaN         NaN         NaN          NaN      NaN   \n",
       "25246120          NaN       NaN         NaN         NaN          NaN      NaN   \n",
       "25246121          NaN       NaN         NaN         NaN          NaN      NaN   \n",
       "25246122          NaN       NaN         NaN         NaN          NaN      NaN   \n",
       "\n",
       "         iata_code local_code             coordinates iso_country_3dig  \n",
       "0              OAK        OAK  -122.221001, 37.721298              USA  \n",
       "1              NaN        NaN                     NaN              NaN  \n",
       "2              LAX        LAX  -118.407997, 33.942501              USA  \n",
       "3              NaN        NaN                     NaN              NaN  \n",
       "4              SIN        NaN     103.994003, 1.35019              SGP  \n",
       "...            ...        ...                     ...              ...  \n",
       "25246118       MEL        NaN  144.843002, -37.673302              AUS  \n",
       "25246119       NaN        NaN                     NaN              NaN  \n",
       "25246120       NaN        NaN                     NaN              NaN  \n",
       "25246121       NaN        NaN                     NaN              NaN  \n",
       "25246122       NaN        NaN                     NaN              NaN  \n",
       "\n",
       "[25246123 rows x 23 columns]"
      ]
     },
     "execution_count": 3,
     "metadata": {},
     "output_type": "execute_result"
    }
   ],
   "source": [
    "\n",
    "#read flight data (total)\n",
    "flight_data=pd.read_csv('flight_data_cons_1.csv')\n",
    "\n",
    "\n",
    "#change date in flight data from string to datetime object\n",
    "def datecheck(x):\n",
    "    return datetime.strptime(x, '%Y-%m-%d %H:%M:%S+00:00')\n",
    "\n",
    "flight_data['firstseen_num']=flight_data['firstseen'].apply(datecheck)\n",
    "flight_data['lastseen_num']=flight_data['lastseen'].apply(datecheck)\n",
    "flight_data['date_num']=flight_data['lastseen_num'].apply(datetime.date)\n",
    "\n",
    "#--------------------\n",
    "\n",
    "#read airport mapping data mapping airport codes to countries. Map countries to 3 digit ISO codes\n",
    "airport_mapping=pd.read_csv('airport-codes_csv.csv')\n",
    "\n",
    "def country_mapping(x):\n",
    "    try:\n",
    "        y=pycountry.countries.get(alpha_2=x).alpha_3\n",
    "    except:\n",
    "        y=''\n",
    "    return y\n",
    "\n",
    "airport_mapping['iso_country_3dig']=airport_mapping['iso_country'].apply(country_mapping)\n",
    "\n",
    "#--------------------\n",
    "#Merge flight data and airport to country mapping\n",
    "\n",
    "flight_data_country=flight_data.merge(airport_mapping, how='left', left_on='origin', right_on='ident')\n",
    "\n",
    "flight_data_country=flight_data_country[['callsign','icao24','origin','destination','firstseen_num','lastseen_num','date_num','ident','name','continent','iso_country','iso_country_3dig']]\n",
    "\n",
    "#--------------------\n",
    "#read vaccination data over time per country\n",
    "vaccination_data=pd.read_csv('owid-covid-data.csv')\n",
    "\n",
    "\n",
    "#filter out irrelevant columns and lines, and add vaccination percentage column\n",
    "filtered_vaccination_data=vaccination_data[['iso_code','location','date','people_fully_vaccinated_per_hundred','population']]\n",
    "filtered_vaccination_data=filtered_vaccination_data.loc[filtered_vaccination_data['date']>'2020-12-15']\n",
    "\n",
    "#add correctly formatted date column to vaccination dataset\n",
    "def datecheck_vac(x):\n",
    "    return datetime.strptime(x, '%Y-%m-%d').date()\n",
    "\n",
    "filtered_vaccination_data['date_num']=filtered_vaccination_data['date'].apply(datecheck_vac)\n",
    "\n",
    "#--------------------\n",
    "#Merge vaccination data into flight data\n",
    "\n",
    "flight_data_completed=flight_data_country.merge(filtered_vaccination_data, how='left', left_on=['iso_country_3dig','date_num'], right_on=['iso_code','date_num'])\n",
    "\n",
    "flight_data_completed.to_csv('final_flight_table.csv')\n",
    "\n"
   ]
  },
  {
   "cell_type": "code",
   "execution_count": 183,
   "id": "a355b152",
   "metadata": {},
   "outputs": [
    {
     "name": "stderr",
     "output_type": "stream",
     "text": [
      "<ipython-input-183-4d61df107af2>:4: SettingWithCopyWarning:\n",
      "\n",
      "\n",
      "A value is trying to be set on a copy of a slice from a DataFrame.\n",
      "Try using .loc[row_indexer,col_indexer] = value instead\n",
      "\n",
      "See the caveats in the documentation: https://pandas.pydata.org/pandas-docs/stable/user_guide/indexing.html#returning-a-view-versus-a-copy\n",
      "\n",
      "<ipython-input-183-4d61df107af2>:5: SettingWithCopyWarning:\n",
      "\n",
      "\n",
      "A value is trying to be set on a copy of a slice from a DataFrame.\n",
      "Try using .loc[row_indexer,col_indexer] = value instead\n",
      "\n",
      "See the caveats in the documentation: https://pandas.pydata.org/pandas-docs/stable/user_guide/indexing.html#returning-a-view-versus-a-copy\n",
      "\n",
      "<ipython-input-183-4d61df107af2>:6: SettingWithCopyWarning:\n",
      "\n",
      "\n",
      "A value is trying to be set on a copy of a slice from a DataFrame.\n",
      "Try using .loc[row_indexer,col_indexer] = value instead\n",
      "\n",
      "See the caveats in the documentation: https://pandas.pydata.org/pandas-docs/stable/user_guide/indexing.html#returning-a-view-versus-a-copy\n",
      "\n"
     ]
    }
   ],
   "source": [
    "#Filter out unmapped data and group by year, month and country\n",
    "\n",
    "flight_data_filtered=flight_data_completed[~flight_data_completed['iso_country'].isnull()]\n",
    "flight_data_filtered['people_fully_vaccinated']=flight_data_filtered['people_fully_vaccinated_per_hundred']*flight_data_filtered['population']/100\n",
    "flight_data_filtered['month']=flight_data_filtered['date_num'].map(lambda x: x.month)\n",
    "flight_data_filtered['year']=flight_data_filtered['date_num'].map(lambda x: x.year)\n",
    "\n",
    "flight_data_monthly=flight_data_filtered.groupby(['year','month','iso_country']).agg({'people_fully_vaccinated_per_hundred': 'mean','callsign':'count','population':'mean','people_fully_vaccinated':'mean'})\n",
    "flight_data_monthly=flight_data_monthly.reset_index()\n",
    "\n",
    "flight_data_monthly['people_fully_vaccinated_per_hundred']=flight_data_monthly['people_fully_vaccinated_per_hundred'].fillna(0)\n",
    "flight_data_monthly['people_fully_vaccinated']=flight_data_monthly['people_fully_vaccinated'].fillna(0)\n",
    "\n",
    "country_count=[]\n",
    "for country in flight_data_monthly.groupby('iso_country').agg('mean').index:\n",
    "    if flight_data_monthly[flight_data_monthly['iso_country']==country].shape[0]==30:\n",
    "        country_count.append(country)\n",
    "\n",
    "flight_data_monthly=flight_data_monthly[flight_data_monthly['iso_country'].isin(country_count)]\n"
   ]
  },
  {
   "cell_type": "code",
   "execution_count": 200,
   "id": "8ada3bb4",
   "metadata": {},
   "outputs": [
    {
     "name": "stderr",
     "output_type": "stream",
     "text": [
      "<ipython-input-200-15429b1743da>:23: SettingWithCopyWarning:\n",
      "\n",
      "\n",
      "A value is trying to be set on a copy of a slice from a DataFrame.\n",
      "Try using .loc[row_indexer,col_indexer] = value instead\n",
      "\n",
      "See the caveats in the documentation: https://pandas.pydata.org/pandas-docs/stable/user_guide/indexing.html#returning-a-view-versus-a-copy\n",
      "\n",
      "<ipython-input-200-15429b1743da>:29: UserWarning:\n",
      "\n",
      "Boolean Series key will be reindexed to match DataFrame index.\n",
      "\n"
     ]
    },
    {
     "data": {
      "text/html": [
       "        <script type=\"text/javascript\">\n",
       "        window.PlotlyConfig = {MathJaxConfig: 'local'};\n",
       "        if (window.MathJax) {MathJax.Hub.Config({SVG: {font: \"STIX-Web\"}});}\n",
       "        if (typeof require !== 'undefined') {\n",
       "        require.undef(\"plotly\");\n",
       "        requirejs.config({\n",
       "            paths: {\n",
       "                'plotly': ['https://cdn.plot.ly/plotly-latest.min']\n",
       "            }\n",
       "        });\n",
       "        require(['plotly'], function(Plotly) {\n",
       "            window._Plotly = Plotly;\n",
       "        });\n",
       "        }\n",
       "        </script>\n",
       "        "
      ]
     },
     "metadata": {},
     "output_type": "display_data"
    },
    {
     "data": {
      "application/vnd.plotly.v1+json": {
       "config": {
        "plotlyServerURL": "https://plot.ly"
       },
       "data": [
        {
         "hovertemplate": "<b>%{hovertext}</b><br><br>flight_return_level=%{x}<br>people_fully_vaccinated_per_hundred_x=%{y}<br>population_x=%{marker.size}<extra></extra>",
         "hovertext": [
          "AE",
          "AT",
          "AU",
          "BE",
          "BR",
          "CA",
          "CH",
          "CN",
          "CZ",
          "DE",
          "DK",
          "ES",
          "FI",
          "FR",
          "GB",
          "GR",
          "HK",
          "HU",
          "IE",
          "IL",
          "IN",
          "IT",
          "JP",
          "KZ",
          "MX",
          "MY",
          "NL",
          "NO",
          "NZ",
          "PH",
          "PL",
          "PT",
          "QA",
          "RO",
          "RU",
          "SA",
          "SE",
          "TW",
          "UA",
          "US",
          "ZA"
         ],
         "legendgroup": "",
         "marker": {
          "color": "#636efa",
          "size": [
           9890400,
           9006400,
           25499881,
           11589616,
           212559409,
           37742157,
           8654618,
           1439323774,
           10708982,
           83783945,
           5792203,
           46754783,
           5540718,
           67564251,
           67886004,
           10423056,
           7496988,
           9660350,
           4937796,
           8655541,
           1380004385,
           60461828,
           126476458,
           18776707,
           128932753,
           32365998,
           17134873,
           5421242,
           4822233,
           109581085,
           37846605,
           10196707,
           2881060,
           19237682,
           145934460,
           34813867,
           10099270,
           23816775,
           43733759,
           331002647,
           59308690
          ],
          "sizemode": "area",
          "sizeref": 399812.15944444446,
          "symbol": "circle"
         },
         "mode": "markers",
         "name": "",
         "orientation": "v",
         "showlegend": false,
         "type": "scatter",
         "x": [
          0.3875385955189613,
          0.4094955489614243,
          0.548909023668639,
          0.42308227759988865,
          0.6055663351928208,
          0.344568179125696,
          0.29879082382190075,
          0.4891877353415815,
          0.24729241877256317,
          0.3427763244645782,
          0.4153716925661487,
          0.6157181324448907,
          0.18736383442265794,
          0.44173075297895714,
          0.27182762349772494,
          0.3086253369272237,
          0.22592791823561054,
          0.31860036832412525,
          0.20912059715418707,
          0.5221606648199446,
          0.32105995168728496,
          0.31936306936306935,
          0.5339740724184175,
          1.021505376344086,
          0.3966489195114313,
          0.07172490089425648,
          0.48178623467900916,
          0.4558938329430133,
          0.8974732750242954,
          0.1889483065953654,
          0.919255928045789,
          0.5275611024440978,
          0.6633950787945812,
          0.4166275246594645,
          0.7488484439950568,
          0.6372819100091828,
          0.3415977961432507,
          0.25622022233986236,
          0.9473684210526315,
          1.1100044521478114,
          0.5884557721139431
         ],
         "xaxis": "x",
         "y": [
          0,
          26.318550724637287,
          3.0953918560868376,
          28.95051661730839,
          11.235761528326996,
          16.71843390063557,
          28.502968986384086,
          15.510000000000055,
          22.259616788321225,
          28.626895203820695,
          27.788402426693672,
          29.596587795763533,
          13.690689655172351,
          23.77341017792113,
          44.55465921033421,
          28.35537117903914,
          16.459342857142815,
          45.23889789303091,
          20.25,
          59.49644562334256,
          3.54819881440943,
          25.398698032253055,
          7.5551444118878095,
          8.150136842105239,
          12.03215949467053,
          4.959267352185123,
          28.63445639187553,
          25.594229452054865,
          7.101177585273526,
          1.7766267123287636,
          27.956686645888393,
          26.378929851510254,
          42.91891644092682,
          21.889713930348293,
          10.132718475732746,
          4.403823529411768,
          25.588666666666704,
          0.1443137254901963,
          0.7594698085419738,
          43.5735916976084,
          0
         ],
         "yaxis": "y"
        }
       ],
       "layout": {
        "legend": {
         "itemsizing": "constant",
         "tracegroupgap": 0
        },
        "margin": {
         "t": 60
        },
        "template": {
         "data": {
          "bar": [
           {
            "error_x": {
             "color": "#2a3f5f"
            },
            "error_y": {
             "color": "#2a3f5f"
            },
            "marker": {
             "line": {
              "color": "#E5ECF6",
              "width": 0.5
             }
            },
            "type": "bar"
           }
          ],
          "barpolar": [
           {
            "marker": {
             "line": {
              "color": "#E5ECF6",
              "width": 0.5
             }
            },
            "type": "barpolar"
           }
          ],
          "carpet": [
           {
            "aaxis": {
             "endlinecolor": "#2a3f5f",
             "gridcolor": "white",
             "linecolor": "white",
             "minorgridcolor": "white",
             "startlinecolor": "#2a3f5f"
            },
            "baxis": {
             "endlinecolor": "#2a3f5f",
             "gridcolor": "white",
             "linecolor": "white",
             "minorgridcolor": "white",
             "startlinecolor": "#2a3f5f"
            },
            "type": "carpet"
           }
          ],
          "choropleth": [
           {
            "colorbar": {
             "outlinewidth": 0,
             "ticks": ""
            },
            "type": "choropleth"
           }
          ],
          "contour": [
           {
            "colorbar": {
             "outlinewidth": 0,
             "ticks": ""
            },
            "colorscale": [
             [
              0,
              "#0d0887"
             ],
             [
              0.1111111111111111,
              "#46039f"
             ],
             [
              0.2222222222222222,
              "#7201a8"
             ],
             [
              0.3333333333333333,
              "#9c179e"
             ],
             [
              0.4444444444444444,
              "#bd3786"
             ],
             [
              0.5555555555555556,
              "#d8576b"
             ],
             [
              0.6666666666666666,
              "#ed7953"
             ],
             [
              0.7777777777777778,
              "#fb9f3a"
             ],
             [
              0.8888888888888888,
              "#fdca26"
             ],
             [
              1,
              "#f0f921"
             ]
            ],
            "type": "contour"
           }
          ],
          "contourcarpet": [
           {
            "colorbar": {
             "outlinewidth": 0,
             "ticks": ""
            },
            "type": "contourcarpet"
           }
          ],
          "heatmap": [
           {
            "colorbar": {
             "outlinewidth": 0,
             "ticks": ""
            },
            "colorscale": [
             [
              0,
              "#0d0887"
             ],
             [
              0.1111111111111111,
              "#46039f"
             ],
             [
              0.2222222222222222,
              "#7201a8"
             ],
             [
              0.3333333333333333,
              "#9c179e"
             ],
             [
              0.4444444444444444,
              "#bd3786"
             ],
             [
              0.5555555555555556,
              "#d8576b"
             ],
             [
              0.6666666666666666,
              "#ed7953"
             ],
             [
              0.7777777777777778,
              "#fb9f3a"
             ],
             [
              0.8888888888888888,
              "#fdca26"
             ],
             [
              1,
              "#f0f921"
             ]
            ],
            "type": "heatmap"
           }
          ],
          "heatmapgl": [
           {
            "colorbar": {
             "outlinewidth": 0,
             "ticks": ""
            },
            "colorscale": [
             [
              0,
              "#0d0887"
             ],
             [
              0.1111111111111111,
              "#46039f"
             ],
             [
              0.2222222222222222,
              "#7201a8"
             ],
             [
              0.3333333333333333,
              "#9c179e"
             ],
             [
              0.4444444444444444,
              "#bd3786"
             ],
             [
              0.5555555555555556,
              "#d8576b"
             ],
             [
              0.6666666666666666,
              "#ed7953"
             ],
             [
              0.7777777777777778,
              "#fb9f3a"
             ],
             [
              0.8888888888888888,
              "#fdca26"
             ],
             [
              1,
              "#f0f921"
             ]
            ],
            "type": "heatmapgl"
           }
          ],
          "histogram": [
           {
            "marker": {
             "colorbar": {
              "outlinewidth": 0,
              "ticks": ""
             }
            },
            "type": "histogram"
           }
          ],
          "histogram2d": [
           {
            "colorbar": {
             "outlinewidth": 0,
             "ticks": ""
            },
            "colorscale": [
             [
              0,
              "#0d0887"
             ],
             [
              0.1111111111111111,
              "#46039f"
             ],
             [
              0.2222222222222222,
              "#7201a8"
             ],
             [
              0.3333333333333333,
              "#9c179e"
             ],
             [
              0.4444444444444444,
              "#bd3786"
             ],
             [
              0.5555555555555556,
              "#d8576b"
             ],
             [
              0.6666666666666666,
              "#ed7953"
             ],
             [
              0.7777777777777778,
              "#fb9f3a"
             ],
             [
              0.8888888888888888,
              "#fdca26"
             ],
             [
              1,
              "#f0f921"
             ]
            ],
            "type": "histogram2d"
           }
          ],
          "histogram2dcontour": [
           {
            "colorbar": {
             "outlinewidth": 0,
             "ticks": ""
            },
            "colorscale": [
             [
              0,
              "#0d0887"
             ],
             [
              0.1111111111111111,
              "#46039f"
             ],
             [
              0.2222222222222222,
              "#7201a8"
             ],
             [
              0.3333333333333333,
              "#9c179e"
             ],
             [
              0.4444444444444444,
              "#bd3786"
             ],
             [
              0.5555555555555556,
              "#d8576b"
             ],
             [
              0.6666666666666666,
              "#ed7953"
             ],
             [
              0.7777777777777778,
              "#fb9f3a"
             ],
             [
              0.8888888888888888,
              "#fdca26"
             ],
             [
              1,
              "#f0f921"
             ]
            ],
            "type": "histogram2dcontour"
           }
          ],
          "mesh3d": [
           {
            "colorbar": {
             "outlinewidth": 0,
             "ticks": ""
            },
            "type": "mesh3d"
           }
          ],
          "parcoords": [
           {
            "line": {
             "colorbar": {
              "outlinewidth": 0,
              "ticks": ""
             }
            },
            "type": "parcoords"
           }
          ],
          "pie": [
           {
            "automargin": true,
            "type": "pie"
           }
          ],
          "scatter": [
           {
            "marker": {
             "colorbar": {
              "outlinewidth": 0,
              "ticks": ""
             }
            },
            "type": "scatter"
           }
          ],
          "scatter3d": [
           {
            "line": {
             "colorbar": {
              "outlinewidth": 0,
              "ticks": ""
             }
            },
            "marker": {
             "colorbar": {
              "outlinewidth": 0,
              "ticks": ""
             }
            },
            "type": "scatter3d"
           }
          ],
          "scattercarpet": [
           {
            "marker": {
             "colorbar": {
              "outlinewidth": 0,
              "ticks": ""
             }
            },
            "type": "scattercarpet"
           }
          ],
          "scattergeo": [
           {
            "marker": {
             "colorbar": {
              "outlinewidth": 0,
              "ticks": ""
             }
            },
            "type": "scattergeo"
           }
          ],
          "scattergl": [
           {
            "marker": {
             "colorbar": {
              "outlinewidth": 0,
              "ticks": ""
             }
            },
            "type": "scattergl"
           }
          ],
          "scattermapbox": [
           {
            "marker": {
             "colorbar": {
              "outlinewidth": 0,
              "ticks": ""
             }
            },
            "type": "scattermapbox"
           }
          ],
          "scatterpolar": [
           {
            "marker": {
             "colorbar": {
              "outlinewidth": 0,
              "ticks": ""
             }
            },
            "type": "scatterpolar"
           }
          ],
          "scatterpolargl": [
           {
            "marker": {
             "colorbar": {
              "outlinewidth": 0,
              "ticks": ""
             }
            },
            "type": "scatterpolargl"
           }
          ],
          "scatterternary": [
           {
            "marker": {
             "colorbar": {
              "outlinewidth": 0,
              "ticks": ""
             }
            },
            "type": "scatterternary"
           }
          ],
          "surface": [
           {
            "colorbar": {
             "outlinewidth": 0,
             "ticks": ""
            },
            "colorscale": [
             [
              0,
              "#0d0887"
             ],
             [
              0.1111111111111111,
              "#46039f"
             ],
             [
              0.2222222222222222,
              "#7201a8"
             ],
             [
              0.3333333333333333,
              "#9c179e"
             ],
             [
              0.4444444444444444,
              "#bd3786"
             ],
             [
              0.5555555555555556,
              "#d8576b"
             ],
             [
              0.6666666666666666,
              "#ed7953"
             ],
             [
              0.7777777777777778,
              "#fb9f3a"
             ],
             [
              0.8888888888888888,
              "#fdca26"
             ],
             [
              1,
              "#f0f921"
             ]
            ],
            "type": "surface"
           }
          ],
          "table": [
           {
            "cells": {
             "fill": {
              "color": "#EBF0F8"
             },
             "line": {
              "color": "white"
             }
            },
            "header": {
             "fill": {
              "color": "#C8D4E3"
             },
             "line": {
              "color": "white"
             }
            },
            "type": "table"
           }
          ]
         },
         "layout": {
          "annotationdefaults": {
           "arrowcolor": "#2a3f5f",
           "arrowhead": 0,
           "arrowwidth": 1
          },
          "autotypenumbers": "strict",
          "coloraxis": {
           "colorbar": {
            "outlinewidth": 0,
            "ticks": ""
           }
          },
          "colorscale": {
           "diverging": [
            [
             0,
             "#8e0152"
            ],
            [
             0.1,
             "#c51b7d"
            ],
            [
             0.2,
             "#de77ae"
            ],
            [
             0.3,
             "#f1b6da"
            ],
            [
             0.4,
             "#fde0ef"
            ],
            [
             0.5,
             "#f7f7f7"
            ],
            [
             0.6,
             "#e6f5d0"
            ],
            [
             0.7,
             "#b8e186"
            ],
            [
             0.8,
             "#7fbc41"
            ],
            [
             0.9,
             "#4d9221"
            ],
            [
             1,
             "#276419"
            ]
           ],
           "sequential": [
            [
             0,
             "#0d0887"
            ],
            [
             0.1111111111111111,
             "#46039f"
            ],
            [
             0.2222222222222222,
             "#7201a8"
            ],
            [
             0.3333333333333333,
             "#9c179e"
            ],
            [
             0.4444444444444444,
             "#bd3786"
            ],
            [
             0.5555555555555556,
             "#d8576b"
            ],
            [
             0.6666666666666666,
             "#ed7953"
            ],
            [
             0.7777777777777778,
             "#fb9f3a"
            ],
            [
             0.8888888888888888,
             "#fdca26"
            ],
            [
             1,
             "#f0f921"
            ]
           ],
           "sequentialminus": [
            [
             0,
             "#0d0887"
            ],
            [
             0.1111111111111111,
             "#46039f"
            ],
            [
             0.2222222222222222,
             "#7201a8"
            ],
            [
             0.3333333333333333,
             "#9c179e"
            ],
            [
             0.4444444444444444,
             "#bd3786"
            ],
            [
             0.5555555555555556,
             "#d8576b"
            ],
            [
             0.6666666666666666,
             "#ed7953"
            ],
            [
             0.7777777777777778,
             "#fb9f3a"
            ],
            [
             0.8888888888888888,
             "#fdca26"
            ],
            [
             1,
             "#f0f921"
            ]
           ]
          },
          "colorway": [
           "#636efa",
           "#EF553B",
           "#00cc96",
           "#ab63fa",
           "#FFA15A",
           "#19d3f3",
           "#FF6692",
           "#B6E880",
           "#FF97FF",
           "#FECB52"
          ],
          "font": {
           "color": "#2a3f5f"
          },
          "geo": {
           "bgcolor": "white",
           "lakecolor": "white",
           "landcolor": "#E5ECF6",
           "showlakes": true,
           "showland": true,
           "subunitcolor": "white"
          },
          "hoverlabel": {
           "align": "left"
          },
          "hovermode": "closest",
          "mapbox": {
           "style": "light"
          },
          "paper_bgcolor": "white",
          "plot_bgcolor": "#E5ECF6",
          "polar": {
           "angularaxis": {
            "gridcolor": "white",
            "linecolor": "white",
            "ticks": ""
           },
           "bgcolor": "#E5ECF6",
           "radialaxis": {
            "gridcolor": "white",
            "linecolor": "white",
            "ticks": ""
           }
          },
          "scene": {
           "xaxis": {
            "backgroundcolor": "#E5ECF6",
            "gridcolor": "white",
            "gridwidth": 2,
            "linecolor": "white",
            "showbackground": true,
            "ticks": "",
            "zerolinecolor": "white"
           },
           "yaxis": {
            "backgroundcolor": "#E5ECF6",
            "gridcolor": "white",
            "gridwidth": 2,
            "linecolor": "white",
            "showbackground": true,
            "ticks": "",
            "zerolinecolor": "white"
           },
           "zaxis": {
            "backgroundcolor": "#E5ECF6",
            "gridcolor": "white",
            "gridwidth": 2,
            "linecolor": "white",
            "showbackground": true,
            "ticks": "",
            "zerolinecolor": "white"
           }
          },
          "shapedefaults": {
           "line": {
            "color": "#2a3f5f"
           }
          },
          "ternary": {
           "aaxis": {
            "gridcolor": "white",
            "linecolor": "white",
            "ticks": ""
           },
           "baxis": {
            "gridcolor": "white",
            "linecolor": "white",
            "ticks": ""
           },
           "bgcolor": "#E5ECF6",
           "caxis": {
            "gridcolor": "white",
            "linecolor": "white",
            "ticks": ""
           }
          },
          "title": {
           "x": 0.05
          },
          "xaxis": {
           "automargin": true,
           "gridcolor": "white",
           "linecolor": "white",
           "ticks": "",
           "title": {
            "standoff": 15
           },
           "zerolinecolor": "white",
           "zerolinewidth": 2
          },
          "yaxis": {
           "automargin": true,
           "gridcolor": "white",
           "linecolor": "white",
           "ticks": "",
           "title": {
            "standoff": 15
           },
           "zerolinecolor": "white",
           "zerolinewidth": 2
          }
         }
        },
        "xaxis": {
         "anchor": "y",
         "domain": [
          0,
          1
         ],
         "title": {
          "text": "flight_return_level"
         }
        },
        "yaxis": {
         "anchor": "x",
         "domain": [
          0,
          1
         ],
         "title": {
          "text": "people_fully_vaccinated_per_hundred_x"
         }
        }
       }
      },
      "text/html": [
       "<div>                            <div id=\"f79211f6-f39d-4f76-a48c-96d09aa16052\" class=\"plotly-graph-div\" style=\"height:525px; width:100%;\"></div>            <script type=\"text/javascript\">                require([\"plotly\"], function(Plotly) {                    window.PLOTLYENV=window.PLOTLYENV || {};                                    if (document.getElementById(\"f79211f6-f39d-4f76-a48c-96d09aa16052\")) {                    Plotly.newPlot(                        \"f79211f6-f39d-4f76-a48c-96d09aa16052\",                        [{\"hovertemplate\": \"<b>%{hovertext}</b><br><br>flight_return_level=%{x}<br>people_fully_vaccinated_per_hundred_x=%{y}<br>population_x=%{marker.size}<extra></extra>\", \"hovertext\": [\"AE\", \"AT\", \"AU\", \"BE\", \"BR\", \"CA\", \"CH\", \"CN\", \"CZ\", \"DE\", \"DK\", \"ES\", \"FI\", \"FR\", \"GB\", \"GR\", \"HK\", \"HU\", \"IE\", \"IL\", \"IN\", \"IT\", \"JP\", \"KZ\", \"MX\", \"MY\", \"NL\", \"NO\", \"NZ\", \"PH\", \"PL\", \"PT\", \"QA\", \"RO\", \"RU\", \"SA\", \"SE\", \"TW\", \"UA\", \"US\", \"ZA\"], \"legendgroup\": \"\", \"marker\": {\"color\": \"#636efa\", \"size\": [9890400.0, 9006400.0, 25499881.0, 11589616.0, 212559409.0, 37742157.0, 8654618.0, 1439323774.0, 10708982.0, 83783945.0, 5792203.0, 46754783.0, 5540718.0, 67564251.0, 67886004.0, 10423056.0, 7496988.0, 9660350.0, 4937796.0, 8655541.0, 1380004385.0, 60461828.0, 126476458.0, 18776707.0, 128932753.0, 32365998.0, 17134873.0, 5421242.0, 4822233.0, 109581085.0, 37846605.0, 10196707.0, 2881060.0, 19237682.0, 145934460.0, 34813867.0, 10099270.0, 23816775.0, 43733759.0, 331002647.0, 59308690.0], \"sizemode\": \"area\", \"sizeref\": 399812.15944444446, \"symbol\": \"circle\"}, \"mode\": \"markers\", \"name\": \"\", \"orientation\": \"v\", \"showlegend\": false, \"type\": \"scatter\", \"x\": [0.3875385955189613, 0.4094955489614243, 0.548909023668639, 0.42308227759988865, 0.6055663351928208, 0.344568179125696, 0.29879082382190075, 0.4891877353415815, 0.24729241877256317, 0.3427763244645782, 0.4153716925661487, 0.6157181324448907, 0.18736383442265794, 0.44173075297895714, 0.27182762349772494, 0.3086253369272237, 0.22592791823561054, 0.31860036832412525, 0.20912059715418707, 0.5221606648199446, 0.32105995168728496, 0.31936306936306935, 0.5339740724184175, 1.021505376344086, 0.3966489195114313, 0.07172490089425648, 0.48178623467900916, 0.4558938329430133, 0.8974732750242954, 0.1889483065953654, 0.919255928045789, 0.5275611024440978, 0.6633950787945812, 0.4166275246594645, 0.7488484439950568, 0.6372819100091828, 0.3415977961432507, 0.25622022233986236, 0.9473684210526315, 1.1100044521478114, 0.5884557721139431], \"xaxis\": \"x\", \"y\": [0.0, 26.318550724637287, 3.0953918560868376, 28.95051661730839, 11.235761528326996, 16.71843390063557, 28.502968986384086, 15.510000000000055, 22.259616788321225, 28.626895203820695, 27.788402426693672, 29.596587795763533, 13.690689655172351, 23.77341017792113, 44.55465921033421, 28.35537117903914, 16.459342857142815, 45.23889789303091, 20.25, 59.49644562334256, 3.54819881440943, 25.398698032253055, 7.5551444118878095, 8.150136842105239, 12.03215949467053, 4.959267352185123, 28.63445639187553, 25.594229452054865, 7.101177585273526, 1.7766267123287636, 27.956686645888393, 26.378929851510254, 42.91891644092682, 21.889713930348293, 10.132718475732746, 4.403823529411768, 25.588666666666704, 0.1443137254901963, 0.7594698085419738, 43.5735916976084, 0.0], \"yaxis\": \"y\"}],                        {\"legend\": {\"itemsizing\": \"constant\", \"tracegroupgap\": 0}, \"margin\": {\"t\": 60}, \"template\": {\"data\": {\"bar\": [{\"error_x\": {\"color\": \"#2a3f5f\"}, \"error_y\": {\"color\": \"#2a3f5f\"}, \"marker\": {\"line\": {\"color\": \"#E5ECF6\", \"width\": 0.5}}, \"type\": \"bar\"}], \"barpolar\": [{\"marker\": {\"line\": {\"color\": \"#E5ECF6\", \"width\": 0.5}}, \"type\": \"barpolar\"}], \"carpet\": [{\"aaxis\": {\"endlinecolor\": \"#2a3f5f\", \"gridcolor\": \"white\", \"linecolor\": \"white\", \"minorgridcolor\": \"white\", \"startlinecolor\": \"#2a3f5f\"}, \"baxis\": {\"endlinecolor\": \"#2a3f5f\", \"gridcolor\": \"white\", \"linecolor\": \"white\", \"minorgridcolor\": \"white\", \"startlinecolor\": \"#2a3f5f\"}, \"type\": \"carpet\"}], \"choropleth\": [{\"colorbar\": {\"outlinewidth\": 0, \"ticks\": \"\"}, \"type\": \"choropleth\"}], \"contour\": [{\"colorbar\": {\"outlinewidth\": 0, \"ticks\": \"\"}, \"colorscale\": [[0.0, \"#0d0887\"], [0.1111111111111111, \"#46039f\"], [0.2222222222222222, \"#7201a8\"], [0.3333333333333333, \"#9c179e\"], [0.4444444444444444, \"#bd3786\"], [0.5555555555555556, \"#d8576b\"], [0.6666666666666666, \"#ed7953\"], [0.7777777777777778, \"#fb9f3a\"], [0.8888888888888888, \"#fdca26\"], [1.0, \"#f0f921\"]], \"type\": \"contour\"}], \"contourcarpet\": [{\"colorbar\": {\"outlinewidth\": 0, \"ticks\": \"\"}, \"type\": \"contourcarpet\"}], \"heatmap\": [{\"colorbar\": {\"outlinewidth\": 0, \"ticks\": \"\"}, \"colorscale\": [[0.0, \"#0d0887\"], [0.1111111111111111, \"#46039f\"], [0.2222222222222222, \"#7201a8\"], [0.3333333333333333, \"#9c179e\"], [0.4444444444444444, \"#bd3786\"], [0.5555555555555556, \"#d8576b\"], [0.6666666666666666, \"#ed7953\"], [0.7777777777777778, \"#fb9f3a\"], [0.8888888888888888, \"#fdca26\"], [1.0, \"#f0f921\"]], \"type\": \"heatmap\"}], \"heatmapgl\": [{\"colorbar\": {\"outlinewidth\": 0, \"ticks\": \"\"}, \"colorscale\": [[0.0, \"#0d0887\"], [0.1111111111111111, \"#46039f\"], [0.2222222222222222, \"#7201a8\"], [0.3333333333333333, \"#9c179e\"], [0.4444444444444444, \"#bd3786\"], [0.5555555555555556, \"#d8576b\"], [0.6666666666666666, \"#ed7953\"], [0.7777777777777778, \"#fb9f3a\"], [0.8888888888888888, \"#fdca26\"], [1.0, \"#f0f921\"]], \"type\": \"heatmapgl\"}], \"histogram\": [{\"marker\": {\"colorbar\": {\"outlinewidth\": 0, \"ticks\": \"\"}}, \"type\": \"histogram\"}], \"histogram2d\": [{\"colorbar\": {\"outlinewidth\": 0, \"ticks\": \"\"}, \"colorscale\": [[0.0, \"#0d0887\"], [0.1111111111111111, \"#46039f\"], [0.2222222222222222, \"#7201a8\"], [0.3333333333333333, \"#9c179e\"], [0.4444444444444444, \"#bd3786\"], [0.5555555555555556, \"#d8576b\"], [0.6666666666666666, \"#ed7953\"], [0.7777777777777778, \"#fb9f3a\"], [0.8888888888888888, \"#fdca26\"], [1.0, \"#f0f921\"]], \"type\": \"histogram2d\"}], \"histogram2dcontour\": [{\"colorbar\": {\"outlinewidth\": 0, \"ticks\": \"\"}, \"colorscale\": [[0.0, \"#0d0887\"], [0.1111111111111111, \"#46039f\"], [0.2222222222222222, \"#7201a8\"], [0.3333333333333333, \"#9c179e\"], [0.4444444444444444, \"#bd3786\"], [0.5555555555555556, \"#d8576b\"], [0.6666666666666666, \"#ed7953\"], [0.7777777777777778, \"#fb9f3a\"], [0.8888888888888888, \"#fdca26\"], [1.0, \"#f0f921\"]], \"type\": \"histogram2dcontour\"}], \"mesh3d\": [{\"colorbar\": {\"outlinewidth\": 0, \"ticks\": \"\"}, \"type\": \"mesh3d\"}], \"parcoords\": [{\"line\": {\"colorbar\": {\"outlinewidth\": 0, \"ticks\": \"\"}}, \"type\": \"parcoords\"}], \"pie\": [{\"automargin\": true, \"type\": \"pie\"}], \"scatter\": [{\"marker\": {\"colorbar\": {\"outlinewidth\": 0, \"ticks\": \"\"}}, \"type\": \"scatter\"}], \"scatter3d\": [{\"line\": {\"colorbar\": {\"outlinewidth\": 0, \"ticks\": \"\"}}, \"marker\": {\"colorbar\": {\"outlinewidth\": 0, \"ticks\": \"\"}}, \"type\": \"scatter3d\"}], \"scattercarpet\": [{\"marker\": {\"colorbar\": {\"outlinewidth\": 0, \"ticks\": \"\"}}, \"type\": \"scattercarpet\"}], \"scattergeo\": [{\"marker\": {\"colorbar\": {\"outlinewidth\": 0, \"ticks\": \"\"}}, \"type\": \"scattergeo\"}], \"scattergl\": [{\"marker\": {\"colorbar\": {\"outlinewidth\": 0, \"ticks\": \"\"}}, \"type\": \"scattergl\"}], \"scattermapbox\": [{\"marker\": {\"colorbar\": {\"outlinewidth\": 0, \"ticks\": \"\"}}, \"type\": \"scattermapbox\"}], \"scatterpolar\": [{\"marker\": {\"colorbar\": {\"outlinewidth\": 0, \"ticks\": \"\"}}, \"type\": \"scatterpolar\"}], \"scatterpolargl\": [{\"marker\": {\"colorbar\": {\"outlinewidth\": 0, \"ticks\": \"\"}}, \"type\": \"scatterpolargl\"}], \"scatterternary\": [{\"marker\": {\"colorbar\": {\"outlinewidth\": 0, \"ticks\": \"\"}}, \"type\": \"scatterternary\"}], \"surface\": [{\"colorbar\": {\"outlinewidth\": 0, \"ticks\": \"\"}, \"colorscale\": [[0.0, \"#0d0887\"], [0.1111111111111111, \"#46039f\"], [0.2222222222222222, \"#7201a8\"], [0.3333333333333333, \"#9c179e\"], [0.4444444444444444, \"#bd3786\"], [0.5555555555555556, \"#d8576b\"], [0.6666666666666666, \"#ed7953\"], [0.7777777777777778, \"#fb9f3a\"], [0.8888888888888888, \"#fdca26\"], [1.0, \"#f0f921\"]], \"type\": \"surface\"}], \"table\": [{\"cells\": {\"fill\": {\"color\": \"#EBF0F8\"}, \"line\": {\"color\": \"white\"}}, \"header\": {\"fill\": {\"color\": \"#C8D4E3\"}, \"line\": {\"color\": \"white\"}}, \"type\": \"table\"}]}, \"layout\": {\"annotationdefaults\": {\"arrowcolor\": \"#2a3f5f\", \"arrowhead\": 0, \"arrowwidth\": 1}, \"autotypenumbers\": \"strict\", \"coloraxis\": {\"colorbar\": {\"outlinewidth\": 0, \"ticks\": \"\"}}, \"colorscale\": {\"diverging\": [[0, \"#8e0152\"], [0.1, \"#c51b7d\"], [0.2, \"#de77ae\"], [0.3, \"#f1b6da\"], [0.4, \"#fde0ef\"], [0.5, \"#f7f7f7\"], [0.6, \"#e6f5d0\"], [0.7, \"#b8e186\"], [0.8, \"#7fbc41\"], [0.9, \"#4d9221\"], [1, \"#276419\"]], \"sequential\": [[0.0, \"#0d0887\"], [0.1111111111111111, \"#46039f\"], [0.2222222222222222, \"#7201a8\"], [0.3333333333333333, \"#9c179e\"], [0.4444444444444444, \"#bd3786\"], [0.5555555555555556, \"#d8576b\"], [0.6666666666666666, \"#ed7953\"], [0.7777777777777778, \"#fb9f3a\"], [0.8888888888888888, \"#fdca26\"], [1.0, \"#f0f921\"]], \"sequentialminus\": [[0.0, \"#0d0887\"], [0.1111111111111111, \"#46039f\"], [0.2222222222222222, \"#7201a8\"], [0.3333333333333333, \"#9c179e\"], [0.4444444444444444, \"#bd3786\"], [0.5555555555555556, \"#d8576b\"], [0.6666666666666666, \"#ed7953\"], [0.7777777777777778, \"#fb9f3a\"], [0.8888888888888888, \"#fdca26\"], [1.0, \"#f0f921\"]]}, \"colorway\": [\"#636efa\", \"#EF553B\", \"#00cc96\", \"#ab63fa\", \"#FFA15A\", \"#19d3f3\", \"#FF6692\", \"#B6E880\", \"#FF97FF\", \"#FECB52\"], \"font\": {\"color\": \"#2a3f5f\"}, \"geo\": {\"bgcolor\": \"white\", \"lakecolor\": \"white\", \"landcolor\": \"#E5ECF6\", \"showlakes\": true, \"showland\": true, \"subunitcolor\": \"white\"}, \"hoverlabel\": {\"align\": \"left\"}, \"hovermode\": \"closest\", \"mapbox\": {\"style\": \"light\"}, \"paper_bgcolor\": \"white\", \"plot_bgcolor\": \"#E5ECF6\", \"polar\": {\"angularaxis\": {\"gridcolor\": \"white\", \"linecolor\": \"white\", \"ticks\": \"\"}, \"bgcolor\": \"#E5ECF6\", \"radialaxis\": {\"gridcolor\": \"white\", \"linecolor\": \"white\", \"ticks\": \"\"}}, \"scene\": {\"xaxis\": {\"backgroundcolor\": \"#E5ECF6\", \"gridcolor\": \"white\", \"gridwidth\": 2, \"linecolor\": \"white\", \"showbackground\": true, \"ticks\": \"\", \"zerolinecolor\": \"white\"}, \"yaxis\": {\"backgroundcolor\": \"#E5ECF6\", \"gridcolor\": \"white\", \"gridwidth\": 2, \"linecolor\": \"white\", \"showbackground\": true, \"ticks\": \"\", \"zerolinecolor\": \"white\"}, \"zaxis\": {\"backgroundcolor\": \"#E5ECF6\", \"gridcolor\": \"white\", \"gridwidth\": 2, \"linecolor\": \"white\", \"showbackground\": true, \"ticks\": \"\", \"zerolinecolor\": \"white\"}}, \"shapedefaults\": {\"line\": {\"color\": \"#2a3f5f\"}}, \"ternary\": {\"aaxis\": {\"gridcolor\": \"white\", \"linecolor\": \"white\", \"ticks\": \"\"}, \"baxis\": {\"gridcolor\": \"white\", \"linecolor\": \"white\", \"ticks\": \"\"}, \"bgcolor\": \"#E5ECF6\", \"caxis\": {\"gridcolor\": \"white\", \"linecolor\": \"white\", \"ticks\": \"\"}}, \"title\": {\"x\": 0.05}, \"xaxis\": {\"automargin\": true, \"gridcolor\": \"white\", \"linecolor\": \"white\", \"ticks\": \"\", \"title\": {\"standoff\": 15}, \"zerolinecolor\": \"white\", \"zerolinewidth\": 2}, \"yaxis\": {\"automargin\": true, \"gridcolor\": \"white\", \"linecolor\": \"white\", \"ticks\": \"\", \"title\": {\"standoff\": 15}, \"zerolinecolor\": \"white\", \"zerolinewidth\": 2}}}, \"xaxis\": {\"anchor\": \"y\", \"domain\": [0.0, 1.0], \"title\": {\"text\": \"flight_return_level\"}}, \"yaxis\": {\"anchor\": \"x\", \"domain\": [0.0, 1.0], \"title\": {\"text\": \"people_fully_vaccinated_per_hundred_x\"}}},                        {\"responsive\": true}                    ).then(function(){\n",
       "                            \n",
       "var gd = document.getElementById('f79211f6-f39d-4f76-a48c-96d09aa16052');\n",
       "var x = new MutationObserver(function (mutations, observer) {{\n",
       "        var display = window.getComputedStyle(gd).display;\n",
       "        if (!display || display === 'none') {{\n",
       "            console.log([gd, 'removed!']);\n",
       "            Plotly.purge(gd);\n",
       "            observer.disconnect();\n",
       "        }}\n",
       "}});\n",
       "\n",
       "// Listen for the removal of the full notebook cells\n",
       "var notebookContainer = gd.closest('#notebook-container');\n",
       "if (notebookContainer) {{\n",
       "    x.observe(notebookContainer, {childList: true});\n",
       "}}\n",
       "\n",
       "// Listen for the clearing of the current output cell\n",
       "var outputEl = gd.closest('.output');\n",
       "if (outputEl) {{\n",
       "    x.observe(outputEl, {childList: true});\n",
       "}}\n",
       "\n",
       "                        })                };                });            </script>        </div>"
      ]
     },
     "metadata": {},
     "output_type": "display_data"
    }
   ],
   "source": [
    "#scatterplot:\n",
    "\"\"\"\n",
    "0. Breakout months in data\n",
    "\n",
    "1. Summarize data per month and country: Mean covid-vac%, sum of # of flights\n",
    "\n",
    "2. ceate table copy, filtered for June 2021\n",
    "\n",
    "3. left merge original table, map by country, and date - 2 years\n",
    "\n",
    "4. Add new column with flight percentage\n",
    "\n",
    "\n",
    "#check MELT\n",
    "\n",
    "\n",
    "\n",
    "\"\"\"\n",
    "\n",
    "\n",
    "june2021=flight_data_monthly[(flight_data_monthly['year']==2021) & (flight_data_monthly['month']==6)]\n",
    "june2019=flight_data_monthly[(flight_data_monthly['year']==2019) & (flight_data_monthly['month']==6)]\n",
    "june2019['map_year']=june2019['year'].map(lambda x: x+2)\n",
    "\n",
    "june_merged=june2021.merge(june2019, on='iso_country', how='inner')\n",
    "\n",
    "june_merged['flight_return_level']=june_merged['callsign_x']/june_merged['callsign_y']\n",
    "\n",
    "june_merged_filtered=june_merged[(june_merged['callsign_x']>=400) & (june_merged['callsign_y']>=400)][june_merged['flight_return_level']<1.5]\n",
    "\n",
    "\n",
    "import plotly\n",
    "# connected=True means it will download the latest version of plotly javascript library.\n",
    "plotly.offline.init_notebook_mode(connected = True)\n",
    "\n",
    "\n",
    "import plotly.express as px\n",
    "df = px.data.gapminder()\n",
    "\n",
    "fig = px.scatter(june_merged_filtered, x=\"flight_return_level\", y=\"people_fully_vaccinated_per_hundred_x\",\n",
    "                 size=\"population_x\",\n",
    "                 hover_name=\"iso_country\", log_x=False, size_max=60)\n",
    "fig.show()\n",
    "#, color=\"continent\""
   ]
  },
  {
   "cell_type": "code",
   "execution_count": 201,
   "id": "64252258",
   "metadata": {},
   "outputs": [
    {
     "name": "stderr",
     "output_type": "stream",
     "text": [
      "<ipython-input-201-0a19e459842f>:15: SettingWithCopyWarning:\n",
      "\n",
      "\n",
      "A value is trying to be set on a copy of a slice from a DataFrame.\n",
      "Try using .loc[row_indexer,col_indexer] = value instead\n",
      "\n",
      "See the caveats in the documentation: https://pandas.pydata.org/pandas-docs/stable/user_guide/indexing.html#returning-a-view-versus-a-copy\n",
      "\n"
     ]
    }
   ],
   "source": [
    "#bar-line plot:\n",
    "\"\"\"\n",
    "1. Summarize data per month and country: Mean covid-vac%, sum of # of flights\n",
    "\n",
    "2. ceate table copy, filtered for all of 2021\n",
    "\n",
    "3. left merge original table, map by country and month, and date - 2 years\n",
    "\n",
    "4. Add new column with flight percentage\n",
    "\n",
    "\n",
    "\"\"\"\n",
    "all2021=flight_data_monthly[flight_data_monthly['year']==2021]\n",
    "all2019=flight_data_monthly[flight_data_monthly['year']==2019]\n",
    "all2019['map_year']=all2019['year'].map(lambda x: x+2)\n",
    "\n",
    "year_merged=all2021.merge(all2019, on=['iso_country', 'month'], how='inner')\n",
    "\n",
    "year_merged['flight_return_level']=year_merged['callsign_x']/year_merged['callsign_y']\n",
    "\n",
    "#year_merged_filtered=year_merged[(year_merged['callsign_x']>=400) & (year_merged['callsign_y']>=400)][year_merged['flight_return_level']<1.5]\n",
    "year_merged_filtered=year_merged\n"
   ]
  },
  {
   "cell_type": "code",
   "execution_count": 206,
   "id": "662a9273",
   "metadata": {},
   "outputs": [
    {
     "data": {
      "application/vnd.plotly.v1+json": {
       "config": {
        "plotlyServerURL": "https://plot.ly"
       },
       "data": [
        {
         "hovertemplate": "color=Completed vaccination percent<br>Month 2021=%{x}<br>0 to 1=%{y}<extra></extra>",
         "legendgroup": "Completed vaccination percent",
         "line": {
          "color": "#636efa",
          "dash": "solid"
         },
         "mode": "lines",
         "name": "Completed vaccination percent",
         "orientation": "v",
         "showlegend": true,
         "type": "scatter",
         "x": [
          1,
          2,
          3,
          4,
          5,
          6
         ],
         "xaxis": "x",
         "y": [
          0,
          0.0007978519195612489,
          0.004481663211241609,
          0.01125680886594873,
          0.02686741713571092,
          0.0354819881440943
         ],
         "yaxis": "y"
        },
        {
         "name": "Flights vs pre-COVID in %",
         "type": "bar",
         "x": [
          1,
          2,
          3,
          4,
          5,
          6
         ],
         "y": [
          0.39905821522552054,
          0.4724859923326452,
          0.54755297679112,
          0.5033190430092657,
          0.34947189338626217,
          0.32105995168728496
         ]
        }
       ],
       "layout": {
        "legend": {
         "title": {
          "text": "color"
         },
         "tracegroupgap": 0
        },
        "margin": {
         "t": 60
        },
        "template": {
         "data": {
          "bar": [
           {
            "error_x": {
             "color": "#2a3f5f"
            },
            "error_y": {
             "color": "#2a3f5f"
            },
            "marker": {
             "line": {
              "color": "#E5ECF6",
              "width": 0.5
             }
            },
            "type": "bar"
           }
          ],
          "barpolar": [
           {
            "marker": {
             "line": {
              "color": "#E5ECF6",
              "width": 0.5
             }
            },
            "type": "barpolar"
           }
          ],
          "carpet": [
           {
            "aaxis": {
             "endlinecolor": "#2a3f5f",
             "gridcolor": "white",
             "linecolor": "white",
             "minorgridcolor": "white",
             "startlinecolor": "#2a3f5f"
            },
            "baxis": {
             "endlinecolor": "#2a3f5f",
             "gridcolor": "white",
             "linecolor": "white",
             "minorgridcolor": "white",
             "startlinecolor": "#2a3f5f"
            },
            "type": "carpet"
           }
          ],
          "choropleth": [
           {
            "colorbar": {
             "outlinewidth": 0,
             "ticks": ""
            },
            "type": "choropleth"
           }
          ],
          "contour": [
           {
            "colorbar": {
             "outlinewidth": 0,
             "ticks": ""
            },
            "colorscale": [
             [
              0,
              "#0d0887"
             ],
             [
              0.1111111111111111,
              "#46039f"
             ],
             [
              0.2222222222222222,
              "#7201a8"
             ],
             [
              0.3333333333333333,
              "#9c179e"
             ],
             [
              0.4444444444444444,
              "#bd3786"
             ],
             [
              0.5555555555555556,
              "#d8576b"
             ],
             [
              0.6666666666666666,
              "#ed7953"
             ],
             [
              0.7777777777777778,
              "#fb9f3a"
             ],
             [
              0.8888888888888888,
              "#fdca26"
             ],
             [
              1,
              "#f0f921"
             ]
            ],
            "type": "contour"
           }
          ],
          "contourcarpet": [
           {
            "colorbar": {
             "outlinewidth": 0,
             "ticks": ""
            },
            "type": "contourcarpet"
           }
          ],
          "heatmap": [
           {
            "colorbar": {
             "outlinewidth": 0,
             "ticks": ""
            },
            "colorscale": [
             [
              0,
              "#0d0887"
             ],
             [
              0.1111111111111111,
              "#46039f"
             ],
             [
              0.2222222222222222,
              "#7201a8"
             ],
             [
              0.3333333333333333,
              "#9c179e"
             ],
             [
              0.4444444444444444,
              "#bd3786"
             ],
             [
              0.5555555555555556,
              "#d8576b"
             ],
             [
              0.6666666666666666,
              "#ed7953"
             ],
             [
              0.7777777777777778,
              "#fb9f3a"
             ],
             [
              0.8888888888888888,
              "#fdca26"
             ],
             [
              1,
              "#f0f921"
             ]
            ],
            "type": "heatmap"
           }
          ],
          "heatmapgl": [
           {
            "colorbar": {
             "outlinewidth": 0,
             "ticks": ""
            },
            "colorscale": [
             [
              0,
              "#0d0887"
             ],
             [
              0.1111111111111111,
              "#46039f"
             ],
             [
              0.2222222222222222,
              "#7201a8"
             ],
             [
              0.3333333333333333,
              "#9c179e"
             ],
             [
              0.4444444444444444,
              "#bd3786"
             ],
             [
              0.5555555555555556,
              "#d8576b"
             ],
             [
              0.6666666666666666,
              "#ed7953"
             ],
             [
              0.7777777777777778,
              "#fb9f3a"
             ],
             [
              0.8888888888888888,
              "#fdca26"
             ],
             [
              1,
              "#f0f921"
             ]
            ],
            "type": "heatmapgl"
           }
          ],
          "histogram": [
           {
            "marker": {
             "colorbar": {
              "outlinewidth": 0,
              "ticks": ""
             }
            },
            "type": "histogram"
           }
          ],
          "histogram2d": [
           {
            "colorbar": {
             "outlinewidth": 0,
             "ticks": ""
            },
            "colorscale": [
             [
              0,
              "#0d0887"
             ],
             [
              0.1111111111111111,
              "#46039f"
             ],
             [
              0.2222222222222222,
              "#7201a8"
             ],
             [
              0.3333333333333333,
              "#9c179e"
             ],
             [
              0.4444444444444444,
              "#bd3786"
             ],
             [
              0.5555555555555556,
              "#d8576b"
             ],
             [
              0.6666666666666666,
              "#ed7953"
             ],
             [
              0.7777777777777778,
              "#fb9f3a"
             ],
             [
              0.8888888888888888,
              "#fdca26"
             ],
             [
              1,
              "#f0f921"
             ]
            ],
            "type": "histogram2d"
           }
          ],
          "histogram2dcontour": [
           {
            "colorbar": {
             "outlinewidth": 0,
             "ticks": ""
            },
            "colorscale": [
             [
              0,
              "#0d0887"
             ],
             [
              0.1111111111111111,
              "#46039f"
             ],
             [
              0.2222222222222222,
              "#7201a8"
             ],
             [
              0.3333333333333333,
              "#9c179e"
             ],
             [
              0.4444444444444444,
              "#bd3786"
             ],
             [
              0.5555555555555556,
              "#d8576b"
             ],
             [
              0.6666666666666666,
              "#ed7953"
             ],
             [
              0.7777777777777778,
              "#fb9f3a"
             ],
             [
              0.8888888888888888,
              "#fdca26"
             ],
             [
              1,
              "#f0f921"
             ]
            ],
            "type": "histogram2dcontour"
           }
          ],
          "mesh3d": [
           {
            "colorbar": {
             "outlinewidth": 0,
             "ticks": ""
            },
            "type": "mesh3d"
           }
          ],
          "parcoords": [
           {
            "line": {
             "colorbar": {
              "outlinewidth": 0,
              "ticks": ""
             }
            },
            "type": "parcoords"
           }
          ],
          "pie": [
           {
            "automargin": true,
            "type": "pie"
           }
          ],
          "scatter": [
           {
            "marker": {
             "colorbar": {
              "outlinewidth": 0,
              "ticks": ""
             }
            },
            "type": "scatter"
           }
          ],
          "scatter3d": [
           {
            "line": {
             "colorbar": {
              "outlinewidth": 0,
              "ticks": ""
             }
            },
            "marker": {
             "colorbar": {
              "outlinewidth": 0,
              "ticks": ""
             }
            },
            "type": "scatter3d"
           }
          ],
          "scattercarpet": [
           {
            "marker": {
             "colorbar": {
              "outlinewidth": 0,
              "ticks": ""
             }
            },
            "type": "scattercarpet"
           }
          ],
          "scattergeo": [
           {
            "marker": {
             "colorbar": {
              "outlinewidth": 0,
              "ticks": ""
             }
            },
            "type": "scattergeo"
           }
          ],
          "scattergl": [
           {
            "marker": {
             "colorbar": {
              "outlinewidth": 0,
              "ticks": ""
             }
            },
            "type": "scattergl"
           }
          ],
          "scattermapbox": [
           {
            "marker": {
             "colorbar": {
              "outlinewidth": 0,
              "ticks": ""
             }
            },
            "type": "scattermapbox"
           }
          ],
          "scatterpolar": [
           {
            "marker": {
             "colorbar": {
              "outlinewidth": 0,
              "ticks": ""
             }
            },
            "type": "scatterpolar"
           }
          ],
          "scatterpolargl": [
           {
            "marker": {
             "colorbar": {
              "outlinewidth": 0,
              "ticks": ""
             }
            },
            "type": "scatterpolargl"
           }
          ],
          "scatterternary": [
           {
            "marker": {
             "colorbar": {
              "outlinewidth": 0,
              "ticks": ""
             }
            },
            "type": "scatterternary"
           }
          ],
          "surface": [
           {
            "colorbar": {
             "outlinewidth": 0,
             "ticks": ""
            },
            "colorscale": [
             [
              0,
              "#0d0887"
             ],
             [
              0.1111111111111111,
              "#46039f"
             ],
             [
              0.2222222222222222,
              "#7201a8"
             ],
             [
              0.3333333333333333,
              "#9c179e"
             ],
             [
              0.4444444444444444,
              "#bd3786"
             ],
             [
              0.5555555555555556,
              "#d8576b"
             ],
             [
              0.6666666666666666,
              "#ed7953"
             ],
             [
              0.7777777777777778,
              "#fb9f3a"
             ],
             [
              0.8888888888888888,
              "#fdca26"
             ],
             [
              1,
              "#f0f921"
             ]
            ],
            "type": "surface"
           }
          ],
          "table": [
           {
            "cells": {
             "fill": {
              "color": "#EBF0F8"
             },
             "line": {
              "color": "white"
             }
            },
            "header": {
             "fill": {
              "color": "#C8D4E3"
             },
             "line": {
              "color": "white"
             }
            },
            "type": "table"
           }
          ]
         },
         "layout": {
          "annotationdefaults": {
           "arrowcolor": "#2a3f5f",
           "arrowhead": 0,
           "arrowwidth": 1
          },
          "autotypenumbers": "strict",
          "coloraxis": {
           "colorbar": {
            "outlinewidth": 0,
            "ticks": ""
           }
          },
          "colorscale": {
           "diverging": [
            [
             0,
             "#8e0152"
            ],
            [
             0.1,
             "#c51b7d"
            ],
            [
             0.2,
             "#de77ae"
            ],
            [
             0.3,
             "#f1b6da"
            ],
            [
             0.4,
             "#fde0ef"
            ],
            [
             0.5,
             "#f7f7f7"
            ],
            [
             0.6,
             "#e6f5d0"
            ],
            [
             0.7,
             "#b8e186"
            ],
            [
             0.8,
             "#7fbc41"
            ],
            [
             0.9,
             "#4d9221"
            ],
            [
             1,
             "#276419"
            ]
           ],
           "sequential": [
            [
             0,
             "#0d0887"
            ],
            [
             0.1111111111111111,
             "#46039f"
            ],
            [
             0.2222222222222222,
             "#7201a8"
            ],
            [
             0.3333333333333333,
             "#9c179e"
            ],
            [
             0.4444444444444444,
             "#bd3786"
            ],
            [
             0.5555555555555556,
             "#d8576b"
            ],
            [
             0.6666666666666666,
             "#ed7953"
            ],
            [
             0.7777777777777778,
             "#fb9f3a"
            ],
            [
             0.8888888888888888,
             "#fdca26"
            ],
            [
             1,
             "#f0f921"
            ]
           ],
           "sequentialminus": [
            [
             0,
             "#0d0887"
            ],
            [
             0.1111111111111111,
             "#46039f"
            ],
            [
             0.2222222222222222,
             "#7201a8"
            ],
            [
             0.3333333333333333,
             "#9c179e"
            ],
            [
             0.4444444444444444,
             "#bd3786"
            ],
            [
             0.5555555555555556,
             "#d8576b"
            ],
            [
             0.6666666666666666,
             "#ed7953"
            ],
            [
             0.7777777777777778,
             "#fb9f3a"
            ],
            [
             0.8888888888888888,
             "#fdca26"
            ],
            [
             1,
             "#f0f921"
            ]
           ]
          },
          "colorway": [
           "#636efa",
           "#EF553B",
           "#00cc96",
           "#ab63fa",
           "#FFA15A",
           "#19d3f3",
           "#FF6692",
           "#B6E880",
           "#FF97FF",
           "#FECB52"
          ],
          "font": {
           "color": "#2a3f5f"
          },
          "geo": {
           "bgcolor": "white",
           "lakecolor": "white",
           "landcolor": "#E5ECF6",
           "showlakes": true,
           "showland": true,
           "subunitcolor": "white"
          },
          "hoverlabel": {
           "align": "left"
          },
          "hovermode": "closest",
          "mapbox": {
           "style": "light"
          },
          "paper_bgcolor": "white",
          "plot_bgcolor": "#E5ECF6",
          "polar": {
           "angularaxis": {
            "gridcolor": "white",
            "linecolor": "white",
            "ticks": ""
           },
           "bgcolor": "#E5ECF6",
           "radialaxis": {
            "gridcolor": "white",
            "linecolor": "white",
            "ticks": ""
           }
          },
          "scene": {
           "xaxis": {
            "backgroundcolor": "#E5ECF6",
            "gridcolor": "white",
            "gridwidth": 2,
            "linecolor": "white",
            "showbackground": true,
            "ticks": "",
            "zerolinecolor": "white"
           },
           "yaxis": {
            "backgroundcolor": "#E5ECF6",
            "gridcolor": "white",
            "gridwidth": 2,
            "linecolor": "white",
            "showbackground": true,
            "ticks": "",
            "zerolinecolor": "white"
           },
           "zaxis": {
            "backgroundcolor": "#E5ECF6",
            "gridcolor": "white",
            "gridwidth": 2,
            "linecolor": "white",
            "showbackground": true,
            "ticks": "",
            "zerolinecolor": "white"
           }
          },
          "shapedefaults": {
           "line": {
            "color": "#2a3f5f"
           }
          },
          "ternary": {
           "aaxis": {
            "gridcolor": "white",
            "linecolor": "white",
            "ticks": ""
           },
           "baxis": {
            "gridcolor": "white",
            "linecolor": "white",
            "ticks": ""
           },
           "bgcolor": "#E5ECF6",
           "caxis": {
            "gridcolor": "white",
            "linecolor": "white",
            "ticks": ""
           }
          },
          "title": {
           "x": 0.05
          },
          "xaxis": {
           "automargin": true,
           "gridcolor": "white",
           "linecolor": "white",
           "ticks": "",
           "title": {
            "standoff": 15
           },
           "zerolinecolor": "white",
           "zerolinewidth": 2
          },
          "yaxis": {
           "automargin": true,
           "gridcolor": "white",
           "linecolor": "white",
           "ticks": "",
           "title": {
            "standoff": 15
           },
           "zerolinecolor": "white",
           "zerolinewidth": 2
          }
         }
        },
        "xaxis": {
         "anchor": "y",
         "domain": [
          0,
          1
         ],
         "title": {
          "text": "Month 2021"
         }
        },
        "yaxis": {
         "anchor": "x",
         "domain": [
          0,
          1
         ],
         "title": {
          "text": "0 to 1"
         }
        }
       }
      },
      "text/html": [
       "<div>                            <div id=\"ff0c535f-1b1b-4971-93cb-e93e73cae1e9\" class=\"plotly-graph-div\" style=\"height:525px; width:100%;\"></div>            <script type=\"text/javascript\">                require([\"plotly\"], function(Plotly) {                    window.PLOTLYENV=window.PLOTLYENV || {};                                    if (document.getElementById(\"ff0c535f-1b1b-4971-93cb-e93e73cae1e9\")) {                    Plotly.newPlot(                        \"ff0c535f-1b1b-4971-93cb-e93e73cae1e9\",                        [{\"hovertemplate\": \"color=Completed vaccination percent<br>Month 2021=%{x}<br>0 to 1=%{y}<extra></extra>\", \"legendgroup\": \"Completed vaccination percent\", \"line\": {\"color\": \"#636efa\", \"dash\": \"solid\"}, \"mode\": \"lines\", \"name\": \"Completed vaccination percent\", \"orientation\": \"v\", \"showlegend\": true, \"type\": \"scatter\", \"x\": [1, 2, 3, 4, 5, 6], \"xaxis\": \"x\", \"y\": [0.0, 0.0007978519195612489, 0.004481663211241609, 0.01125680886594873, 0.02686741713571092, 0.0354819881440943], \"yaxis\": \"y\"}, {\"name\": \"Flights vs pre-COVID in %\", \"type\": \"bar\", \"x\": [1, 2, 3, 4, 5, 6], \"y\": [0.39905821522552054, 0.4724859923326452, 0.54755297679112, 0.5033190430092657, 0.34947189338626217, 0.32105995168728496]}],                        {\"legend\": {\"title\": {\"text\": \"color\"}, \"tracegroupgap\": 0}, \"margin\": {\"t\": 60}, \"template\": {\"data\": {\"bar\": [{\"error_x\": {\"color\": \"#2a3f5f\"}, \"error_y\": {\"color\": \"#2a3f5f\"}, \"marker\": {\"line\": {\"color\": \"#E5ECF6\", \"width\": 0.5}}, \"type\": \"bar\"}], \"barpolar\": [{\"marker\": {\"line\": {\"color\": \"#E5ECF6\", \"width\": 0.5}}, \"type\": \"barpolar\"}], \"carpet\": [{\"aaxis\": {\"endlinecolor\": \"#2a3f5f\", \"gridcolor\": \"white\", \"linecolor\": \"white\", \"minorgridcolor\": \"white\", \"startlinecolor\": \"#2a3f5f\"}, \"baxis\": {\"endlinecolor\": \"#2a3f5f\", \"gridcolor\": \"white\", \"linecolor\": \"white\", \"minorgridcolor\": \"white\", \"startlinecolor\": \"#2a3f5f\"}, \"type\": \"carpet\"}], \"choropleth\": [{\"colorbar\": {\"outlinewidth\": 0, \"ticks\": \"\"}, \"type\": \"choropleth\"}], \"contour\": [{\"colorbar\": {\"outlinewidth\": 0, \"ticks\": \"\"}, \"colorscale\": [[0.0, \"#0d0887\"], [0.1111111111111111, \"#46039f\"], [0.2222222222222222, \"#7201a8\"], [0.3333333333333333, \"#9c179e\"], [0.4444444444444444, \"#bd3786\"], [0.5555555555555556, \"#d8576b\"], [0.6666666666666666, \"#ed7953\"], [0.7777777777777778, \"#fb9f3a\"], [0.8888888888888888, \"#fdca26\"], [1.0, \"#f0f921\"]], \"type\": \"contour\"}], \"contourcarpet\": [{\"colorbar\": {\"outlinewidth\": 0, \"ticks\": \"\"}, \"type\": \"contourcarpet\"}], \"heatmap\": [{\"colorbar\": {\"outlinewidth\": 0, \"ticks\": \"\"}, \"colorscale\": [[0.0, \"#0d0887\"], [0.1111111111111111, \"#46039f\"], [0.2222222222222222, \"#7201a8\"], [0.3333333333333333, \"#9c179e\"], [0.4444444444444444, \"#bd3786\"], [0.5555555555555556, \"#d8576b\"], [0.6666666666666666, \"#ed7953\"], [0.7777777777777778, \"#fb9f3a\"], [0.8888888888888888, \"#fdca26\"], [1.0, \"#f0f921\"]], \"type\": \"heatmap\"}], \"heatmapgl\": [{\"colorbar\": {\"outlinewidth\": 0, \"ticks\": \"\"}, \"colorscale\": [[0.0, \"#0d0887\"], [0.1111111111111111, \"#46039f\"], [0.2222222222222222, \"#7201a8\"], [0.3333333333333333, \"#9c179e\"], [0.4444444444444444, \"#bd3786\"], [0.5555555555555556, \"#d8576b\"], [0.6666666666666666, \"#ed7953\"], [0.7777777777777778, \"#fb9f3a\"], [0.8888888888888888, \"#fdca26\"], [1.0, \"#f0f921\"]], \"type\": \"heatmapgl\"}], \"histogram\": [{\"marker\": {\"colorbar\": {\"outlinewidth\": 0, \"ticks\": \"\"}}, \"type\": \"histogram\"}], \"histogram2d\": [{\"colorbar\": {\"outlinewidth\": 0, \"ticks\": \"\"}, \"colorscale\": [[0.0, \"#0d0887\"], [0.1111111111111111, \"#46039f\"], [0.2222222222222222, \"#7201a8\"], [0.3333333333333333, \"#9c179e\"], [0.4444444444444444, \"#bd3786\"], [0.5555555555555556, \"#d8576b\"], [0.6666666666666666, \"#ed7953\"], [0.7777777777777778, \"#fb9f3a\"], [0.8888888888888888, \"#fdca26\"], [1.0, \"#f0f921\"]], \"type\": \"histogram2d\"}], \"histogram2dcontour\": [{\"colorbar\": {\"outlinewidth\": 0, \"ticks\": \"\"}, \"colorscale\": [[0.0, \"#0d0887\"], [0.1111111111111111, \"#46039f\"], [0.2222222222222222, \"#7201a8\"], [0.3333333333333333, \"#9c179e\"], [0.4444444444444444, \"#bd3786\"], [0.5555555555555556, \"#d8576b\"], [0.6666666666666666, \"#ed7953\"], [0.7777777777777778, \"#fb9f3a\"], [0.8888888888888888, \"#fdca26\"], [1.0, \"#f0f921\"]], \"type\": \"histogram2dcontour\"}], \"mesh3d\": [{\"colorbar\": {\"outlinewidth\": 0, \"ticks\": \"\"}, \"type\": \"mesh3d\"}], \"parcoords\": [{\"line\": {\"colorbar\": {\"outlinewidth\": 0, \"ticks\": \"\"}}, \"type\": \"parcoords\"}], \"pie\": [{\"automargin\": true, \"type\": \"pie\"}], \"scatter\": [{\"marker\": {\"colorbar\": {\"outlinewidth\": 0, \"ticks\": \"\"}}, \"type\": \"scatter\"}], \"scatter3d\": [{\"line\": {\"colorbar\": {\"outlinewidth\": 0, \"ticks\": \"\"}}, \"marker\": {\"colorbar\": {\"outlinewidth\": 0, \"ticks\": \"\"}}, \"type\": \"scatter3d\"}], \"scattercarpet\": [{\"marker\": {\"colorbar\": {\"outlinewidth\": 0, \"ticks\": \"\"}}, \"type\": \"scattercarpet\"}], \"scattergeo\": [{\"marker\": {\"colorbar\": {\"outlinewidth\": 0, \"ticks\": \"\"}}, \"type\": \"scattergeo\"}], \"scattergl\": [{\"marker\": {\"colorbar\": {\"outlinewidth\": 0, \"ticks\": \"\"}}, \"type\": \"scattergl\"}], \"scattermapbox\": [{\"marker\": {\"colorbar\": {\"outlinewidth\": 0, \"ticks\": \"\"}}, \"type\": \"scattermapbox\"}], \"scatterpolar\": [{\"marker\": {\"colorbar\": {\"outlinewidth\": 0, \"ticks\": \"\"}}, \"type\": \"scatterpolar\"}], \"scatterpolargl\": [{\"marker\": {\"colorbar\": {\"outlinewidth\": 0, \"ticks\": \"\"}}, \"type\": \"scatterpolargl\"}], \"scatterternary\": [{\"marker\": {\"colorbar\": {\"outlinewidth\": 0, \"ticks\": \"\"}}, \"type\": \"scatterternary\"}], \"surface\": [{\"colorbar\": {\"outlinewidth\": 0, \"ticks\": \"\"}, \"colorscale\": [[0.0, \"#0d0887\"], [0.1111111111111111, \"#46039f\"], [0.2222222222222222, \"#7201a8\"], [0.3333333333333333, \"#9c179e\"], [0.4444444444444444, \"#bd3786\"], [0.5555555555555556, \"#d8576b\"], [0.6666666666666666, \"#ed7953\"], [0.7777777777777778, \"#fb9f3a\"], [0.8888888888888888, \"#fdca26\"], [1.0, \"#f0f921\"]], \"type\": \"surface\"}], \"table\": [{\"cells\": {\"fill\": {\"color\": \"#EBF0F8\"}, \"line\": {\"color\": \"white\"}}, \"header\": {\"fill\": {\"color\": \"#C8D4E3\"}, \"line\": {\"color\": \"white\"}}, \"type\": \"table\"}]}, \"layout\": {\"annotationdefaults\": {\"arrowcolor\": \"#2a3f5f\", \"arrowhead\": 0, \"arrowwidth\": 1}, \"autotypenumbers\": \"strict\", \"coloraxis\": {\"colorbar\": {\"outlinewidth\": 0, \"ticks\": \"\"}}, \"colorscale\": {\"diverging\": [[0, \"#8e0152\"], [0.1, \"#c51b7d\"], [0.2, \"#de77ae\"], [0.3, \"#f1b6da\"], [0.4, \"#fde0ef\"], [0.5, \"#f7f7f7\"], [0.6, \"#e6f5d0\"], [0.7, \"#b8e186\"], [0.8, \"#7fbc41\"], [0.9, \"#4d9221\"], [1, \"#276419\"]], \"sequential\": [[0.0, \"#0d0887\"], [0.1111111111111111, \"#46039f\"], [0.2222222222222222, \"#7201a8\"], [0.3333333333333333, \"#9c179e\"], [0.4444444444444444, \"#bd3786\"], [0.5555555555555556, \"#d8576b\"], [0.6666666666666666, \"#ed7953\"], [0.7777777777777778, \"#fb9f3a\"], [0.8888888888888888, \"#fdca26\"], [1.0, \"#f0f921\"]], \"sequentialminus\": [[0.0, \"#0d0887\"], [0.1111111111111111, \"#46039f\"], [0.2222222222222222, \"#7201a8\"], [0.3333333333333333, \"#9c179e\"], [0.4444444444444444, \"#bd3786\"], [0.5555555555555556, \"#d8576b\"], [0.6666666666666666, \"#ed7953\"], [0.7777777777777778, \"#fb9f3a\"], [0.8888888888888888, \"#fdca26\"], [1.0, \"#f0f921\"]]}, \"colorway\": [\"#636efa\", \"#EF553B\", \"#00cc96\", \"#ab63fa\", \"#FFA15A\", \"#19d3f3\", \"#FF6692\", \"#B6E880\", \"#FF97FF\", \"#FECB52\"], \"font\": {\"color\": \"#2a3f5f\"}, \"geo\": {\"bgcolor\": \"white\", \"lakecolor\": \"white\", \"landcolor\": \"#E5ECF6\", \"showlakes\": true, \"showland\": true, \"subunitcolor\": \"white\"}, \"hoverlabel\": {\"align\": \"left\"}, \"hovermode\": \"closest\", \"mapbox\": {\"style\": \"light\"}, \"paper_bgcolor\": \"white\", \"plot_bgcolor\": \"#E5ECF6\", \"polar\": {\"angularaxis\": {\"gridcolor\": \"white\", \"linecolor\": \"white\", \"ticks\": \"\"}, \"bgcolor\": \"#E5ECF6\", \"radialaxis\": {\"gridcolor\": \"white\", \"linecolor\": \"white\", \"ticks\": \"\"}}, \"scene\": {\"xaxis\": {\"backgroundcolor\": \"#E5ECF6\", \"gridcolor\": \"white\", \"gridwidth\": 2, \"linecolor\": \"white\", \"showbackground\": true, \"ticks\": \"\", \"zerolinecolor\": \"white\"}, \"yaxis\": {\"backgroundcolor\": \"#E5ECF6\", \"gridcolor\": \"white\", \"gridwidth\": 2, \"linecolor\": \"white\", \"showbackground\": true, \"ticks\": \"\", \"zerolinecolor\": \"white\"}, \"zaxis\": {\"backgroundcolor\": \"#E5ECF6\", \"gridcolor\": \"white\", \"gridwidth\": 2, \"linecolor\": \"white\", \"showbackground\": true, \"ticks\": \"\", \"zerolinecolor\": \"white\"}}, \"shapedefaults\": {\"line\": {\"color\": \"#2a3f5f\"}}, \"ternary\": {\"aaxis\": {\"gridcolor\": \"white\", \"linecolor\": \"white\", \"ticks\": \"\"}, \"baxis\": {\"gridcolor\": \"white\", \"linecolor\": \"white\", \"ticks\": \"\"}, \"bgcolor\": \"#E5ECF6\", \"caxis\": {\"gridcolor\": \"white\", \"linecolor\": \"white\", \"ticks\": \"\"}}, \"title\": {\"x\": 0.05}, \"xaxis\": {\"automargin\": true, \"gridcolor\": \"white\", \"linecolor\": \"white\", \"ticks\": \"\", \"title\": {\"standoff\": 15}, \"zerolinecolor\": \"white\", \"zerolinewidth\": 2}, \"yaxis\": {\"automargin\": true, \"gridcolor\": \"white\", \"linecolor\": \"white\", \"ticks\": \"\", \"title\": {\"standoff\": 15}, \"zerolinecolor\": \"white\", \"zerolinewidth\": 2}}}, \"xaxis\": {\"anchor\": \"y\", \"domain\": [0.0, 1.0], \"title\": {\"text\": \"Month 2021\"}}, \"yaxis\": {\"anchor\": \"x\", \"domain\": [0.0, 1.0], \"title\": {\"text\": \"0 to 1\"}}},                        {\"responsive\": true}                    ).then(function(){\n",
       "                            \n",
       "var gd = document.getElementById('ff0c535f-1b1b-4971-93cb-e93e73cae1e9');\n",
       "var x = new MutationObserver(function (mutations, observer) {{\n",
       "        var display = window.getComputedStyle(gd).display;\n",
       "        if (!display || display === 'none') {{\n",
       "            console.log([gd, 'removed!']);\n",
       "            Plotly.purge(gd);\n",
       "            observer.disconnect();\n",
       "        }}\n",
       "}});\n",
       "\n",
       "// Listen for the removal of the full notebook cells\n",
       "var notebookContainer = gd.closest('#notebook-container');\n",
       "if (notebookContainer) {{\n",
       "    x.observe(notebookContainer, {childList: true});\n",
       "}}\n",
       "\n",
       "// Listen for the clearing of the current output cell\n",
       "var outputEl = gd.closest('.output');\n",
       "if (outputEl) {{\n",
       "    x.observe(outputEl, {childList: true});\n",
       "}}\n",
       "\n",
       "                        })                };                });            </script>        </div>"
      ]
     },
     "metadata": {},
     "output_type": "display_data"
    }
   ],
   "source": [
    "import plotly.express as px\n",
    "\n",
    "country='IN'\n",
    "\n",
    "x_axis = year_merged_filtered[year_merged_filtered['iso_country']==country]['month']\n",
    "monthly_flights = year_merged_filtered[year_merged_filtered['iso_country']==country]['flight_return_level']\n",
    "monthly_vacc = year_merged_filtered[year_merged_filtered['iso_country']==country]['people_fully_vaccinated_per_hundred_x']\n",
    "fig = px.line(x=x_axis, y=monthly_vacc/100, color=px.Constant(\"Completed vaccination percent\"),\n",
    "             labels=dict(x=\"Month 2021\", y=\"0 to 1\"))\n",
    "fig.add_bar(x=x_axis, y=monthly_flights, name=\"Flights vs pre-COVID in %\")\n",
    "fig.show()\n",
    "\n"
   ]
  },
  {
   "cell_type": "code",
   "execution_count": 203,
   "id": "2f3bd054",
   "metadata": {},
   "outputs": [
    {
     "data": {
      "text/plain": [
       "{'AE': 0.16860389136727336,\n",
       " 'AT': 0.9728313060222716,\n",
       " 'AU': 0.1168253787240422,\n",
       " 'BE': 0.8674779831692205,\n",
       " 'BR': 0.04626569664189282,\n",
       " 'CA': -0.05979999229879467,\n",
       " 'CH': 0.9122774649198471,\n",
       " 'DE': 0.9286892256714233,\n",
       " 'DK': 0.8795537801258558,\n",
       " 'ES': 0.9549523831383644,\n",
       " 'FI': -0.20286707325929523,\n",
       " 'FR': 0.7468116601277511,\n",
       " 'GB': 0.6733425200470093,\n",
       " 'HK': -0.6539671167052409,\n",
       " 'ID': 0.863666102174425,\n",
       " 'IE': 0.11857893923376746,\n",
       " 'IN': -0.7260107883883857,\n",
       " 'IT': 0.9366155573351301,\n",
       " 'JP': 0.14160781497715788,\n",
       " 'KZ': -0.1449089379447234,\n",
       " 'MX': -0.33201705163323575,\n",
       " 'MY': -0.7620346582118425,\n",
       " 'NL': 0.6354270480316192,\n",
       " 'NO': -0.7895740878412129,\n",
       " 'NZ': 0.6051071665352693,\n",
       " 'PH': -0.07554475155960491,\n",
       " 'PL': 0.9113335553840322,\n",
       " 'PT': 0.9084616447578581,\n",
       " 'QA': 0.22576640290975183,\n",
       " 'RO': 0.8797373375339924,\n",
       " 'RU': 0.9812163507265238,\n",
       " 'SA': -0.25284985054610304,\n",
       " 'SE': 0.7316141741909564,\n",
       " 'TR': 0.9430392336553465,\n",
       " 'TW': 0.35799639366006314,\n",
       " 'US': 0.7423369041219274,\n",
       " 'ZA': 0.7033605578385899,\n",
       " 'TH': -0.9999999999999998,\n",
       " 'UA': 0.12830773401722922,\n",
       " 'KR': -1.0000000000000002,\n",
       " 'CN': nan,\n",
       " 'CZ': nan,\n",
       " 'GR': nan,\n",
       " 'HU': nan,\n",
       " 'IL': nan}"
      ]
     },
     "execution_count": 203,
     "metadata": {},
     "output_type": "execute_result"
    }
   ],
   "source": [
    "corr_dict"
   ]
  },
  {
   "cell_type": "code",
   "execution_count": 204,
   "id": "5820795c",
   "metadata": {},
   "outputs": [
    {
     "data": {
      "application/vnd.plotly.v1+json": {
       "config": {
        "plotlyServerURL": "https://plot.ly"
       },
       "data": [
        {
         "alignmentgroup": "True",
         "hovertemplate": "Country=%{x}<br>-1 to 1=%{y}<extra></extra>",
         "legendgroup": "",
         "marker": {
          "color": "#636efa"
         },
         "name": "",
         "offsetgroup": "",
         "orientation": "v",
         "showlegend": false,
         "textposition": "auto",
         "type": "bar",
         "x": [
          "RU",
          "AT",
          "TR",
          "LV",
          "ES",
          "BG",
          "IT",
          "DE",
          "EE",
          "ID",
          "CH",
          "PL",
          "PT",
          "DK",
          "RO",
          "SK",
          "BE",
          "BM",
          "MA",
          "HU",
          "CZ",
          "GR",
          "FR",
          "US",
          "HR",
          "SE",
          "LT",
          "ZA",
          "GB",
          "NL",
          "NZ",
          "LU",
          "SI",
          "TW",
          "IL",
          "QA",
          "AE",
          "JP",
          "IE",
          "AU",
          "MT",
          "BR",
          "MO",
          "SA",
          "CA",
          "BH",
          "PH",
          "FI",
          "KZ",
          "UA",
          "TH",
          "MX",
          "CN",
          "KR",
          "HK",
          "IN",
          "MY",
          "NO",
          "DZ"
         ],
         "xaxis": "x",
         "y": [
          0.9812163507265238,
          0.9728313060222716,
          0.9648489539382572,
          0.9607646845518779,
          0.9549523831383644,
          0.9438804614854799,
          0.9366155573351301,
          0.9286892256714233,
          0.9160892897648184,
          0.9131025155996689,
          0.9122774649198471,
          0.9113335553840322,
          0.9084616447578581,
          0.8944850026909302,
          0.8916265391984229,
          0.8719532124894086,
          0.8674779831692205,
          0.8560438562945138,
          0.8384861431707303,
          0.8233890941637235,
          0.7651211141974653,
          0.7477049036383333,
          0.7468116601277511,
          0.7423369041219274,
          0.7352941028897392,
          0.7316141741909564,
          0.7277636342612809,
          0.7033605578385899,
          0.6733425200470093,
          0.6354270480316192,
          0.6051071665352693,
          0.5425693791330078,
          0.45918197742358385,
          0.35799639366006314,
          0.3526212788711229,
          0.22576640290975183,
          0.16860389136727336,
          0.14160781497715788,
          0.11857893923376746,
          0.1168253787240422,
          0.07770563941801684,
          0.04626569664189282,
          0.009479809985386825,
          -0.04077438745446115,
          -0.05979999229879467,
          -0.07007651985918192,
          -0.07554475155960491,
          -0.20286707325929523,
          -0.336571453854521,
          -0.3544879952443322,
          -0.3647444909587157,
          -0.44486991893715633,
          -0.49162528958206064,
          -0.620445197018342,
          -0.6539671167052409,
          -0.7260107883883857,
          -0.7620346582118425,
          -0.7892601382667819,
          null
         ],
         "yaxis": "y"
        }
       ],
       "layout": {
        "barmode": "relative",
        "legend": {
         "tracegroupgap": 0
        },
        "margin": {
         "t": 60
        },
        "template": {
         "data": {
          "bar": [
           {
            "error_x": {
             "color": "#2a3f5f"
            },
            "error_y": {
             "color": "#2a3f5f"
            },
            "marker": {
             "line": {
              "color": "#E5ECF6",
              "width": 0.5
             }
            },
            "type": "bar"
           }
          ],
          "barpolar": [
           {
            "marker": {
             "line": {
              "color": "#E5ECF6",
              "width": 0.5
             }
            },
            "type": "barpolar"
           }
          ],
          "carpet": [
           {
            "aaxis": {
             "endlinecolor": "#2a3f5f",
             "gridcolor": "white",
             "linecolor": "white",
             "minorgridcolor": "white",
             "startlinecolor": "#2a3f5f"
            },
            "baxis": {
             "endlinecolor": "#2a3f5f",
             "gridcolor": "white",
             "linecolor": "white",
             "minorgridcolor": "white",
             "startlinecolor": "#2a3f5f"
            },
            "type": "carpet"
           }
          ],
          "choropleth": [
           {
            "colorbar": {
             "outlinewidth": 0,
             "ticks": ""
            },
            "type": "choropleth"
           }
          ],
          "contour": [
           {
            "colorbar": {
             "outlinewidth": 0,
             "ticks": ""
            },
            "colorscale": [
             [
              0,
              "#0d0887"
             ],
             [
              0.1111111111111111,
              "#46039f"
             ],
             [
              0.2222222222222222,
              "#7201a8"
             ],
             [
              0.3333333333333333,
              "#9c179e"
             ],
             [
              0.4444444444444444,
              "#bd3786"
             ],
             [
              0.5555555555555556,
              "#d8576b"
             ],
             [
              0.6666666666666666,
              "#ed7953"
             ],
             [
              0.7777777777777778,
              "#fb9f3a"
             ],
             [
              0.8888888888888888,
              "#fdca26"
             ],
             [
              1,
              "#f0f921"
             ]
            ],
            "type": "contour"
           }
          ],
          "contourcarpet": [
           {
            "colorbar": {
             "outlinewidth": 0,
             "ticks": ""
            },
            "type": "contourcarpet"
           }
          ],
          "heatmap": [
           {
            "colorbar": {
             "outlinewidth": 0,
             "ticks": ""
            },
            "colorscale": [
             [
              0,
              "#0d0887"
             ],
             [
              0.1111111111111111,
              "#46039f"
             ],
             [
              0.2222222222222222,
              "#7201a8"
             ],
             [
              0.3333333333333333,
              "#9c179e"
             ],
             [
              0.4444444444444444,
              "#bd3786"
             ],
             [
              0.5555555555555556,
              "#d8576b"
             ],
             [
              0.6666666666666666,
              "#ed7953"
             ],
             [
              0.7777777777777778,
              "#fb9f3a"
             ],
             [
              0.8888888888888888,
              "#fdca26"
             ],
             [
              1,
              "#f0f921"
             ]
            ],
            "type": "heatmap"
           }
          ],
          "heatmapgl": [
           {
            "colorbar": {
             "outlinewidth": 0,
             "ticks": ""
            },
            "colorscale": [
             [
              0,
              "#0d0887"
             ],
             [
              0.1111111111111111,
              "#46039f"
             ],
             [
              0.2222222222222222,
              "#7201a8"
             ],
             [
              0.3333333333333333,
              "#9c179e"
             ],
             [
              0.4444444444444444,
              "#bd3786"
             ],
             [
              0.5555555555555556,
              "#d8576b"
             ],
             [
              0.6666666666666666,
              "#ed7953"
             ],
             [
              0.7777777777777778,
              "#fb9f3a"
             ],
             [
              0.8888888888888888,
              "#fdca26"
             ],
             [
              1,
              "#f0f921"
             ]
            ],
            "type": "heatmapgl"
           }
          ],
          "histogram": [
           {
            "marker": {
             "colorbar": {
              "outlinewidth": 0,
              "ticks": ""
             }
            },
            "type": "histogram"
           }
          ],
          "histogram2d": [
           {
            "colorbar": {
             "outlinewidth": 0,
             "ticks": ""
            },
            "colorscale": [
             [
              0,
              "#0d0887"
             ],
             [
              0.1111111111111111,
              "#46039f"
             ],
             [
              0.2222222222222222,
              "#7201a8"
             ],
             [
              0.3333333333333333,
              "#9c179e"
             ],
             [
              0.4444444444444444,
              "#bd3786"
             ],
             [
              0.5555555555555556,
              "#d8576b"
             ],
             [
              0.6666666666666666,
              "#ed7953"
             ],
             [
              0.7777777777777778,
              "#fb9f3a"
             ],
             [
              0.8888888888888888,
              "#fdca26"
             ],
             [
              1,
              "#f0f921"
             ]
            ],
            "type": "histogram2d"
           }
          ],
          "histogram2dcontour": [
           {
            "colorbar": {
             "outlinewidth": 0,
             "ticks": ""
            },
            "colorscale": [
             [
              0,
              "#0d0887"
             ],
             [
              0.1111111111111111,
              "#46039f"
             ],
             [
              0.2222222222222222,
              "#7201a8"
             ],
             [
              0.3333333333333333,
              "#9c179e"
             ],
             [
              0.4444444444444444,
              "#bd3786"
             ],
             [
              0.5555555555555556,
              "#d8576b"
             ],
             [
              0.6666666666666666,
              "#ed7953"
             ],
             [
              0.7777777777777778,
              "#fb9f3a"
             ],
             [
              0.8888888888888888,
              "#fdca26"
             ],
             [
              1,
              "#f0f921"
             ]
            ],
            "type": "histogram2dcontour"
           }
          ],
          "mesh3d": [
           {
            "colorbar": {
             "outlinewidth": 0,
             "ticks": ""
            },
            "type": "mesh3d"
           }
          ],
          "parcoords": [
           {
            "line": {
             "colorbar": {
              "outlinewidth": 0,
              "ticks": ""
             }
            },
            "type": "parcoords"
           }
          ],
          "pie": [
           {
            "automargin": true,
            "type": "pie"
           }
          ],
          "scatter": [
           {
            "marker": {
             "colorbar": {
              "outlinewidth": 0,
              "ticks": ""
             }
            },
            "type": "scatter"
           }
          ],
          "scatter3d": [
           {
            "line": {
             "colorbar": {
              "outlinewidth": 0,
              "ticks": ""
             }
            },
            "marker": {
             "colorbar": {
              "outlinewidth": 0,
              "ticks": ""
             }
            },
            "type": "scatter3d"
           }
          ],
          "scattercarpet": [
           {
            "marker": {
             "colorbar": {
              "outlinewidth": 0,
              "ticks": ""
             }
            },
            "type": "scattercarpet"
           }
          ],
          "scattergeo": [
           {
            "marker": {
             "colorbar": {
              "outlinewidth": 0,
              "ticks": ""
             }
            },
            "type": "scattergeo"
           }
          ],
          "scattergl": [
           {
            "marker": {
             "colorbar": {
              "outlinewidth": 0,
              "ticks": ""
             }
            },
            "type": "scattergl"
           }
          ],
          "scattermapbox": [
           {
            "marker": {
             "colorbar": {
              "outlinewidth": 0,
              "ticks": ""
             }
            },
            "type": "scattermapbox"
           }
          ],
          "scatterpolar": [
           {
            "marker": {
             "colorbar": {
              "outlinewidth": 0,
              "ticks": ""
             }
            },
            "type": "scatterpolar"
           }
          ],
          "scatterpolargl": [
           {
            "marker": {
             "colorbar": {
              "outlinewidth": 0,
              "ticks": ""
             }
            },
            "type": "scatterpolargl"
           }
          ],
          "scatterternary": [
           {
            "marker": {
             "colorbar": {
              "outlinewidth": 0,
              "ticks": ""
             }
            },
            "type": "scatterternary"
           }
          ],
          "surface": [
           {
            "colorbar": {
             "outlinewidth": 0,
             "ticks": ""
            },
            "colorscale": [
             [
              0,
              "#0d0887"
             ],
             [
              0.1111111111111111,
              "#46039f"
             ],
             [
              0.2222222222222222,
              "#7201a8"
             ],
             [
              0.3333333333333333,
              "#9c179e"
             ],
             [
              0.4444444444444444,
              "#bd3786"
             ],
             [
              0.5555555555555556,
              "#d8576b"
             ],
             [
              0.6666666666666666,
              "#ed7953"
             ],
             [
              0.7777777777777778,
              "#fb9f3a"
             ],
             [
              0.8888888888888888,
              "#fdca26"
             ],
             [
              1,
              "#f0f921"
             ]
            ],
            "type": "surface"
           }
          ],
          "table": [
           {
            "cells": {
             "fill": {
              "color": "#EBF0F8"
             },
             "line": {
              "color": "white"
             }
            },
            "header": {
             "fill": {
              "color": "#C8D4E3"
             },
             "line": {
              "color": "white"
             }
            },
            "type": "table"
           }
          ]
         },
         "layout": {
          "annotationdefaults": {
           "arrowcolor": "#2a3f5f",
           "arrowhead": 0,
           "arrowwidth": 1
          },
          "autotypenumbers": "strict",
          "coloraxis": {
           "colorbar": {
            "outlinewidth": 0,
            "ticks": ""
           }
          },
          "colorscale": {
           "diverging": [
            [
             0,
             "#8e0152"
            ],
            [
             0.1,
             "#c51b7d"
            ],
            [
             0.2,
             "#de77ae"
            ],
            [
             0.3,
             "#f1b6da"
            ],
            [
             0.4,
             "#fde0ef"
            ],
            [
             0.5,
             "#f7f7f7"
            ],
            [
             0.6,
             "#e6f5d0"
            ],
            [
             0.7,
             "#b8e186"
            ],
            [
             0.8,
             "#7fbc41"
            ],
            [
             0.9,
             "#4d9221"
            ],
            [
             1,
             "#276419"
            ]
           ],
           "sequential": [
            [
             0,
             "#0d0887"
            ],
            [
             0.1111111111111111,
             "#46039f"
            ],
            [
             0.2222222222222222,
             "#7201a8"
            ],
            [
             0.3333333333333333,
             "#9c179e"
            ],
            [
             0.4444444444444444,
             "#bd3786"
            ],
            [
             0.5555555555555556,
             "#d8576b"
            ],
            [
             0.6666666666666666,
             "#ed7953"
            ],
            [
             0.7777777777777778,
             "#fb9f3a"
            ],
            [
             0.8888888888888888,
             "#fdca26"
            ],
            [
             1,
             "#f0f921"
            ]
           ],
           "sequentialminus": [
            [
             0,
             "#0d0887"
            ],
            [
             0.1111111111111111,
             "#46039f"
            ],
            [
             0.2222222222222222,
             "#7201a8"
            ],
            [
             0.3333333333333333,
             "#9c179e"
            ],
            [
             0.4444444444444444,
             "#bd3786"
            ],
            [
             0.5555555555555556,
             "#d8576b"
            ],
            [
             0.6666666666666666,
             "#ed7953"
            ],
            [
             0.7777777777777778,
             "#fb9f3a"
            ],
            [
             0.8888888888888888,
             "#fdca26"
            ],
            [
             1,
             "#f0f921"
            ]
           ]
          },
          "colorway": [
           "#636efa",
           "#EF553B",
           "#00cc96",
           "#ab63fa",
           "#FFA15A",
           "#19d3f3",
           "#FF6692",
           "#B6E880",
           "#FF97FF",
           "#FECB52"
          ],
          "font": {
           "color": "#2a3f5f"
          },
          "geo": {
           "bgcolor": "white",
           "lakecolor": "white",
           "landcolor": "#E5ECF6",
           "showlakes": true,
           "showland": true,
           "subunitcolor": "white"
          },
          "hoverlabel": {
           "align": "left"
          },
          "hovermode": "closest",
          "mapbox": {
           "style": "light"
          },
          "paper_bgcolor": "white",
          "plot_bgcolor": "#E5ECF6",
          "polar": {
           "angularaxis": {
            "gridcolor": "white",
            "linecolor": "white",
            "ticks": ""
           },
           "bgcolor": "#E5ECF6",
           "radialaxis": {
            "gridcolor": "white",
            "linecolor": "white",
            "ticks": ""
           }
          },
          "scene": {
           "xaxis": {
            "backgroundcolor": "#E5ECF6",
            "gridcolor": "white",
            "gridwidth": 2,
            "linecolor": "white",
            "showbackground": true,
            "ticks": "",
            "zerolinecolor": "white"
           },
           "yaxis": {
            "backgroundcolor": "#E5ECF6",
            "gridcolor": "white",
            "gridwidth": 2,
            "linecolor": "white",
            "showbackground": true,
            "ticks": "",
            "zerolinecolor": "white"
           },
           "zaxis": {
            "backgroundcolor": "#E5ECF6",
            "gridcolor": "white",
            "gridwidth": 2,
            "linecolor": "white",
            "showbackground": true,
            "ticks": "",
            "zerolinecolor": "white"
           }
          },
          "shapedefaults": {
           "line": {
            "color": "#2a3f5f"
           }
          },
          "ternary": {
           "aaxis": {
            "gridcolor": "white",
            "linecolor": "white",
            "ticks": ""
           },
           "baxis": {
            "gridcolor": "white",
            "linecolor": "white",
            "ticks": ""
           },
           "bgcolor": "#E5ECF6",
           "caxis": {
            "gridcolor": "white",
            "linecolor": "white",
            "ticks": ""
           }
          },
          "title": {
           "x": 0.05
          },
          "xaxis": {
           "automargin": true,
           "gridcolor": "white",
           "linecolor": "white",
           "ticks": "",
           "title": {
            "standoff": 15
           },
           "zerolinecolor": "white",
           "zerolinewidth": 2
          },
          "yaxis": {
           "automargin": true,
           "gridcolor": "white",
           "linecolor": "white",
           "ticks": "",
           "title": {
            "standoff": 15
           },
           "zerolinecolor": "white",
           "zerolinewidth": 2
          }
         }
        },
        "xaxis": {
         "anchor": "y",
         "domain": [
          0,
          1
         ],
         "title": {
          "text": "Country"
         }
        },
        "yaxis": {
         "anchor": "x",
         "domain": [
          0,
          1
         ],
         "title": {
          "text": "-1 to 1"
         }
        }
       }
      },
      "text/html": [
       "<div>                            <div id=\"6d6cbedd-f020-4d74-829f-be3d9700360c\" class=\"plotly-graph-div\" style=\"height:525px; width:100%;\"></div>            <script type=\"text/javascript\">                require([\"plotly\"], function(Plotly) {                    window.PLOTLYENV=window.PLOTLYENV || {};                                    if (document.getElementById(\"6d6cbedd-f020-4d74-829f-be3d9700360c\")) {                    Plotly.newPlot(                        \"6d6cbedd-f020-4d74-829f-be3d9700360c\",                        [{\"alignmentgroup\": \"True\", \"hovertemplate\": \"Country=%{x}<br>-1 to 1=%{y}<extra></extra>\", \"legendgroup\": \"\", \"marker\": {\"color\": \"#636efa\"}, \"name\": \"\", \"offsetgroup\": \"\", \"orientation\": \"v\", \"showlegend\": false, \"textposition\": \"auto\", \"type\": \"bar\", \"x\": [\"RU\", \"AT\", \"TR\", \"LV\", \"ES\", \"BG\", \"IT\", \"DE\", \"EE\", \"ID\", \"CH\", \"PL\", \"PT\", \"DK\", \"RO\", \"SK\", \"BE\", \"BM\", \"MA\", \"HU\", \"CZ\", \"GR\", \"FR\", \"US\", \"HR\", \"SE\", \"LT\", \"ZA\", \"GB\", \"NL\", \"NZ\", \"LU\", \"SI\", \"TW\", \"IL\", \"QA\", \"AE\", \"JP\", \"IE\", \"AU\", \"MT\", \"BR\", \"MO\", \"SA\", \"CA\", \"BH\", \"PH\", \"FI\", \"KZ\", \"UA\", \"TH\", \"MX\", \"CN\", \"KR\", \"HK\", \"IN\", \"MY\", \"NO\", \"DZ\"], \"xaxis\": \"x\", \"y\": [0.9812163507265238, 0.9728313060222716, 0.9648489539382572, 0.9607646845518779, 0.9549523831383644, 0.9438804614854799, 0.9366155573351301, 0.9286892256714233, 0.9160892897648184, 0.9131025155996689, 0.9122774649198471, 0.9113335553840322, 0.9084616447578581, 0.8944850026909302, 0.8916265391984229, 0.8719532124894086, 0.8674779831692205, 0.8560438562945138, 0.8384861431707303, 0.8233890941637235, 0.7651211141974653, 0.7477049036383333, 0.7468116601277511, 0.7423369041219274, 0.7352941028897392, 0.7316141741909564, 0.7277636342612809, 0.7033605578385899, 0.6733425200470093, 0.6354270480316192, 0.6051071665352693, 0.5425693791330078, 0.45918197742358385, 0.35799639366006314, 0.3526212788711229, 0.22576640290975183, 0.16860389136727336, 0.14160781497715788, 0.11857893923376746, 0.1168253787240422, 0.07770563941801684, 0.04626569664189282, 0.009479809985386825, -0.04077438745446115, -0.05979999229879467, -0.07007651985918192, -0.07554475155960491, -0.20286707325929523, -0.336571453854521, -0.3544879952443322, -0.3647444909587157, -0.44486991893715633, -0.49162528958206064, -0.620445197018342, -0.6539671167052409, -0.7260107883883857, -0.7620346582118425, -0.7892601382667819, null], \"yaxis\": \"y\"}],                        {\"barmode\": \"relative\", \"legend\": {\"tracegroupgap\": 0}, \"margin\": {\"t\": 60}, \"template\": {\"data\": {\"bar\": [{\"error_x\": {\"color\": \"#2a3f5f\"}, \"error_y\": {\"color\": \"#2a3f5f\"}, \"marker\": {\"line\": {\"color\": \"#E5ECF6\", \"width\": 0.5}}, \"type\": \"bar\"}], \"barpolar\": [{\"marker\": {\"line\": {\"color\": \"#E5ECF6\", \"width\": 0.5}}, \"type\": \"barpolar\"}], \"carpet\": [{\"aaxis\": {\"endlinecolor\": \"#2a3f5f\", \"gridcolor\": \"white\", \"linecolor\": \"white\", \"minorgridcolor\": \"white\", \"startlinecolor\": \"#2a3f5f\"}, \"baxis\": {\"endlinecolor\": \"#2a3f5f\", \"gridcolor\": \"white\", \"linecolor\": \"white\", \"minorgridcolor\": \"white\", \"startlinecolor\": \"#2a3f5f\"}, \"type\": \"carpet\"}], \"choropleth\": [{\"colorbar\": {\"outlinewidth\": 0, \"ticks\": \"\"}, \"type\": \"choropleth\"}], \"contour\": [{\"colorbar\": {\"outlinewidth\": 0, \"ticks\": \"\"}, \"colorscale\": [[0.0, \"#0d0887\"], [0.1111111111111111, \"#46039f\"], [0.2222222222222222, \"#7201a8\"], [0.3333333333333333, \"#9c179e\"], [0.4444444444444444, \"#bd3786\"], [0.5555555555555556, \"#d8576b\"], [0.6666666666666666, \"#ed7953\"], [0.7777777777777778, \"#fb9f3a\"], [0.8888888888888888, \"#fdca26\"], [1.0, \"#f0f921\"]], \"type\": \"contour\"}], \"contourcarpet\": [{\"colorbar\": {\"outlinewidth\": 0, \"ticks\": \"\"}, \"type\": \"contourcarpet\"}], \"heatmap\": [{\"colorbar\": {\"outlinewidth\": 0, \"ticks\": \"\"}, \"colorscale\": [[0.0, \"#0d0887\"], [0.1111111111111111, \"#46039f\"], [0.2222222222222222, \"#7201a8\"], [0.3333333333333333, \"#9c179e\"], [0.4444444444444444, \"#bd3786\"], [0.5555555555555556, \"#d8576b\"], [0.6666666666666666, \"#ed7953\"], [0.7777777777777778, \"#fb9f3a\"], [0.8888888888888888, \"#fdca26\"], [1.0, \"#f0f921\"]], \"type\": \"heatmap\"}], \"heatmapgl\": [{\"colorbar\": {\"outlinewidth\": 0, \"ticks\": \"\"}, \"colorscale\": [[0.0, \"#0d0887\"], [0.1111111111111111, \"#46039f\"], [0.2222222222222222, \"#7201a8\"], [0.3333333333333333, \"#9c179e\"], [0.4444444444444444, \"#bd3786\"], [0.5555555555555556, \"#d8576b\"], [0.6666666666666666, \"#ed7953\"], [0.7777777777777778, \"#fb9f3a\"], [0.8888888888888888, \"#fdca26\"], [1.0, \"#f0f921\"]], \"type\": \"heatmapgl\"}], \"histogram\": [{\"marker\": {\"colorbar\": {\"outlinewidth\": 0, \"ticks\": \"\"}}, \"type\": \"histogram\"}], \"histogram2d\": [{\"colorbar\": {\"outlinewidth\": 0, \"ticks\": \"\"}, \"colorscale\": [[0.0, \"#0d0887\"], [0.1111111111111111, \"#46039f\"], [0.2222222222222222, \"#7201a8\"], [0.3333333333333333, \"#9c179e\"], [0.4444444444444444, \"#bd3786\"], [0.5555555555555556, \"#d8576b\"], [0.6666666666666666, \"#ed7953\"], [0.7777777777777778, \"#fb9f3a\"], [0.8888888888888888, \"#fdca26\"], [1.0, \"#f0f921\"]], \"type\": \"histogram2d\"}], \"histogram2dcontour\": [{\"colorbar\": {\"outlinewidth\": 0, \"ticks\": \"\"}, \"colorscale\": [[0.0, \"#0d0887\"], [0.1111111111111111, \"#46039f\"], [0.2222222222222222, \"#7201a8\"], [0.3333333333333333, \"#9c179e\"], [0.4444444444444444, \"#bd3786\"], [0.5555555555555556, \"#d8576b\"], [0.6666666666666666, \"#ed7953\"], [0.7777777777777778, \"#fb9f3a\"], [0.8888888888888888, \"#fdca26\"], [1.0, \"#f0f921\"]], \"type\": \"histogram2dcontour\"}], \"mesh3d\": [{\"colorbar\": {\"outlinewidth\": 0, \"ticks\": \"\"}, \"type\": \"mesh3d\"}], \"parcoords\": [{\"line\": {\"colorbar\": {\"outlinewidth\": 0, \"ticks\": \"\"}}, \"type\": \"parcoords\"}], \"pie\": [{\"automargin\": true, \"type\": \"pie\"}], \"scatter\": [{\"marker\": {\"colorbar\": {\"outlinewidth\": 0, \"ticks\": \"\"}}, \"type\": \"scatter\"}], \"scatter3d\": [{\"line\": {\"colorbar\": {\"outlinewidth\": 0, \"ticks\": \"\"}}, \"marker\": {\"colorbar\": {\"outlinewidth\": 0, \"ticks\": \"\"}}, \"type\": \"scatter3d\"}], \"scattercarpet\": [{\"marker\": {\"colorbar\": {\"outlinewidth\": 0, \"ticks\": \"\"}}, \"type\": \"scattercarpet\"}], \"scattergeo\": [{\"marker\": {\"colorbar\": {\"outlinewidth\": 0, \"ticks\": \"\"}}, \"type\": \"scattergeo\"}], \"scattergl\": [{\"marker\": {\"colorbar\": {\"outlinewidth\": 0, \"ticks\": \"\"}}, \"type\": \"scattergl\"}], \"scattermapbox\": [{\"marker\": {\"colorbar\": {\"outlinewidth\": 0, \"ticks\": \"\"}}, \"type\": \"scattermapbox\"}], \"scatterpolar\": [{\"marker\": {\"colorbar\": {\"outlinewidth\": 0, \"ticks\": \"\"}}, \"type\": \"scatterpolar\"}], \"scatterpolargl\": [{\"marker\": {\"colorbar\": {\"outlinewidth\": 0, \"ticks\": \"\"}}, \"type\": \"scatterpolargl\"}], \"scatterternary\": [{\"marker\": {\"colorbar\": {\"outlinewidth\": 0, \"ticks\": \"\"}}, \"type\": \"scatterternary\"}], \"surface\": [{\"colorbar\": {\"outlinewidth\": 0, \"ticks\": \"\"}, \"colorscale\": [[0.0, \"#0d0887\"], [0.1111111111111111, \"#46039f\"], [0.2222222222222222, \"#7201a8\"], [0.3333333333333333, \"#9c179e\"], [0.4444444444444444, \"#bd3786\"], [0.5555555555555556, \"#d8576b\"], [0.6666666666666666, \"#ed7953\"], [0.7777777777777778, \"#fb9f3a\"], [0.8888888888888888, \"#fdca26\"], [1.0, \"#f0f921\"]], \"type\": \"surface\"}], \"table\": [{\"cells\": {\"fill\": {\"color\": \"#EBF0F8\"}, \"line\": {\"color\": \"white\"}}, \"header\": {\"fill\": {\"color\": \"#C8D4E3\"}, \"line\": {\"color\": \"white\"}}, \"type\": \"table\"}]}, \"layout\": {\"annotationdefaults\": {\"arrowcolor\": \"#2a3f5f\", \"arrowhead\": 0, \"arrowwidth\": 1}, \"autotypenumbers\": \"strict\", \"coloraxis\": {\"colorbar\": {\"outlinewidth\": 0, \"ticks\": \"\"}}, \"colorscale\": {\"diverging\": [[0, \"#8e0152\"], [0.1, \"#c51b7d\"], [0.2, \"#de77ae\"], [0.3, \"#f1b6da\"], [0.4, \"#fde0ef\"], [0.5, \"#f7f7f7\"], [0.6, \"#e6f5d0\"], [0.7, \"#b8e186\"], [0.8, \"#7fbc41\"], [0.9, \"#4d9221\"], [1, \"#276419\"]], \"sequential\": [[0.0, \"#0d0887\"], [0.1111111111111111, \"#46039f\"], [0.2222222222222222, \"#7201a8\"], [0.3333333333333333, \"#9c179e\"], [0.4444444444444444, \"#bd3786\"], [0.5555555555555556, \"#d8576b\"], [0.6666666666666666, \"#ed7953\"], [0.7777777777777778, \"#fb9f3a\"], [0.8888888888888888, \"#fdca26\"], [1.0, \"#f0f921\"]], \"sequentialminus\": [[0.0, \"#0d0887\"], [0.1111111111111111, \"#46039f\"], [0.2222222222222222, \"#7201a8\"], [0.3333333333333333, \"#9c179e\"], [0.4444444444444444, \"#bd3786\"], [0.5555555555555556, \"#d8576b\"], [0.6666666666666666, \"#ed7953\"], [0.7777777777777778, \"#fb9f3a\"], [0.8888888888888888, \"#fdca26\"], [1.0, \"#f0f921\"]]}, \"colorway\": [\"#636efa\", \"#EF553B\", \"#00cc96\", \"#ab63fa\", \"#FFA15A\", \"#19d3f3\", \"#FF6692\", \"#B6E880\", \"#FF97FF\", \"#FECB52\"], \"font\": {\"color\": \"#2a3f5f\"}, \"geo\": {\"bgcolor\": \"white\", \"lakecolor\": \"white\", \"landcolor\": \"#E5ECF6\", \"showlakes\": true, \"showland\": true, \"subunitcolor\": \"white\"}, \"hoverlabel\": {\"align\": \"left\"}, \"hovermode\": \"closest\", \"mapbox\": {\"style\": \"light\"}, \"paper_bgcolor\": \"white\", \"plot_bgcolor\": \"#E5ECF6\", \"polar\": {\"angularaxis\": {\"gridcolor\": \"white\", \"linecolor\": \"white\", \"ticks\": \"\"}, \"bgcolor\": \"#E5ECF6\", \"radialaxis\": {\"gridcolor\": \"white\", \"linecolor\": \"white\", \"ticks\": \"\"}}, \"scene\": {\"xaxis\": {\"backgroundcolor\": \"#E5ECF6\", \"gridcolor\": \"white\", \"gridwidth\": 2, \"linecolor\": \"white\", \"showbackground\": true, \"ticks\": \"\", \"zerolinecolor\": \"white\"}, \"yaxis\": {\"backgroundcolor\": \"#E5ECF6\", \"gridcolor\": \"white\", \"gridwidth\": 2, \"linecolor\": \"white\", \"showbackground\": true, \"ticks\": \"\", \"zerolinecolor\": \"white\"}, \"zaxis\": {\"backgroundcolor\": \"#E5ECF6\", \"gridcolor\": \"white\", \"gridwidth\": 2, \"linecolor\": \"white\", \"showbackground\": true, \"ticks\": \"\", \"zerolinecolor\": \"white\"}}, \"shapedefaults\": {\"line\": {\"color\": \"#2a3f5f\"}}, \"ternary\": {\"aaxis\": {\"gridcolor\": \"white\", \"linecolor\": \"white\", \"ticks\": \"\"}, \"baxis\": {\"gridcolor\": \"white\", \"linecolor\": \"white\", \"ticks\": \"\"}, \"bgcolor\": \"#E5ECF6\", \"caxis\": {\"gridcolor\": \"white\", \"linecolor\": \"white\", \"ticks\": \"\"}}, \"title\": {\"x\": 0.05}, \"xaxis\": {\"automargin\": true, \"gridcolor\": \"white\", \"linecolor\": \"white\", \"ticks\": \"\", \"title\": {\"standoff\": 15}, \"zerolinecolor\": \"white\", \"zerolinewidth\": 2}, \"yaxis\": {\"automargin\": true, \"gridcolor\": \"white\", \"linecolor\": \"white\", \"ticks\": \"\", \"title\": {\"standoff\": 15}, \"zerolinecolor\": \"white\", \"zerolinewidth\": 2}}}, \"xaxis\": {\"anchor\": \"y\", \"domain\": [0.0, 1.0], \"title\": {\"text\": \"Country\"}}, \"yaxis\": {\"anchor\": \"x\", \"domain\": [0.0, 1.0], \"title\": {\"text\": \"-1 to 1\"}}},                        {\"responsive\": true}                    ).then(function(){\n",
       "                            \n",
       "var gd = document.getElementById('6d6cbedd-f020-4d74-829f-be3d9700360c');\n",
       "var x = new MutationObserver(function (mutations, observer) {{\n",
       "        var display = window.getComputedStyle(gd).display;\n",
       "        if (!display || display === 'none') {{\n",
       "            console.log([gd, 'removed!']);\n",
       "            Plotly.purge(gd);\n",
       "            observer.disconnect();\n",
       "        }}\n",
       "}});\n",
       "\n",
       "// Listen for the removal of the full notebook cells\n",
       "var notebookContainer = gd.closest('#notebook-container');\n",
       "if (notebookContainer) {{\n",
       "    x.observe(notebookContainer, {childList: true});\n",
       "}}\n",
       "\n",
       "// Listen for the clearing of the current output cell\n",
       "var outputEl = gd.closest('.output');\n",
       "if (outputEl) {{\n",
       "    x.observe(outputEl, {childList: true});\n",
       "}}\n",
       "\n",
       "                        })                };                });            </script>        </div>"
      ]
     },
     "metadata": {},
     "output_type": "display_data"
    }
   ],
   "source": [
    "corr_dict={}\n",
    "for country in year_merged_filtered['iso_country']:\n",
    "    corr_dict[country]=year_merged_filtered[year_merged_filtered['iso_country']==country].corr().loc['flight_return_level','people_fully_vaccinated_per_hundred_x']\n",
    "\n",
    "\n",
    "corr_data=pd.DataFrame({'Country':corr_dict.keys(),'Correlation':corr_dict.values()}).sort_values(by='Correlation', ascending=False)\n",
    "\n",
    "\n",
    "\n",
    "import plotly.express as px\n",
    "\n",
    "x_axis = corr_data['Country']\n",
    "corr = corr_data['Correlation']\n",
    "\n",
    "fig = px.bar(x=x_axis, y=corr,\n",
    "             labels=dict(x=\"Country\", y=\"-1 to 1\"))\n",
    "fig.show()\n",
    "\n",
    "    "
   ]
  },
  {
   "cell_type": "code",
   "execution_count": 205,
   "id": "2e89f4f4",
   "metadata": {},
   "outputs": [
    {
     "data": {
      "application/vnd.plotly.v1+json": {
       "config": {
        "plotlyServerURL": "https://plot.ly"
       },
       "data": [
        {
         "hovertemplate": "color=Completed vaccination percent<br>Month 2021=%{x}<br>0 to 1=%{y}<extra></extra>",
         "legendgroup": "Completed vaccination percent",
         "line": {
          "color": "#636efa",
          "dash": "solid"
         },
         "mode": "lines",
         "name": "Completed vaccination percent",
         "orientation": "v",
         "showlegend": true,
         "type": "scatter",
         "x": [
          1,
          2,
          3,
          4,
          5,
          6
         ],
         "xaxis": "x",
         "y": [
          0.0009861766480858767,
          0.00594563002893509,
          0.016131194540923297,
          0.03468146654349388,
          0.060503087552647,
          0.1316826238430167
         ],
         "yaxis": "y"
        },
        {
         "name": "Flights vs pre-COVID in %",
         "type": "bar",
         "x": [
          1,
          2,
          3,
          4,
          5,
          6
         ],
         "y": [
          0.5986722393426893,
          0.5509425753389152,
          0.6503934267002406,
          0.6806933280516723,
          0.6509983173582524,
          0.7273696833808099
         ]
        }
       ],
       "layout": {
        "legend": {
         "title": {
          "text": "color"
         },
         "tracegroupgap": 0
        },
        "margin": {
         "t": 60
        },
        "template": {
         "data": {
          "bar": [
           {
            "error_x": {
             "color": "#2a3f5f"
            },
            "error_y": {
             "color": "#2a3f5f"
            },
            "marker": {
             "line": {
              "color": "#E5ECF6",
              "width": 0.5
             }
            },
            "type": "bar"
           }
          ],
          "barpolar": [
           {
            "marker": {
             "line": {
              "color": "#E5ECF6",
              "width": 0.5
             }
            },
            "type": "barpolar"
           }
          ],
          "carpet": [
           {
            "aaxis": {
             "endlinecolor": "#2a3f5f",
             "gridcolor": "white",
             "linecolor": "white",
             "minorgridcolor": "white",
             "startlinecolor": "#2a3f5f"
            },
            "baxis": {
             "endlinecolor": "#2a3f5f",
             "gridcolor": "white",
             "linecolor": "white",
             "minorgridcolor": "white",
             "startlinecolor": "#2a3f5f"
            },
            "type": "carpet"
           }
          ],
          "choropleth": [
           {
            "colorbar": {
             "outlinewidth": 0,
             "ticks": ""
            },
            "type": "choropleth"
           }
          ],
          "contour": [
           {
            "colorbar": {
             "outlinewidth": 0,
             "ticks": ""
            },
            "colorscale": [
             [
              0,
              "#0d0887"
             ],
             [
              0.1111111111111111,
              "#46039f"
             ],
             [
              0.2222222222222222,
              "#7201a8"
             ],
             [
              0.3333333333333333,
              "#9c179e"
             ],
             [
              0.4444444444444444,
              "#bd3786"
             ],
             [
              0.5555555555555556,
              "#d8576b"
             ],
             [
              0.6666666666666666,
              "#ed7953"
             ],
             [
              0.7777777777777778,
              "#fb9f3a"
             ],
             [
              0.8888888888888888,
              "#fdca26"
             ],
             [
              1,
              "#f0f921"
             ]
            ],
            "type": "contour"
           }
          ],
          "contourcarpet": [
           {
            "colorbar": {
             "outlinewidth": 0,
             "ticks": ""
            },
            "type": "contourcarpet"
           }
          ],
          "heatmap": [
           {
            "colorbar": {
             "outlinewidth": 0,
             "ticks": ""
            },
            "colorscale": [
             [
              0,
              "#0d0887"
             ],
             [
              0.1111111111111111,
              "#46039f"
             ],
             [
              0.2222222222222222,
              "#7201a8"
             ],
             [
              0.3333333333333333,
              "#9c179e"
             ],
             [
              0.4444444444444444,
              "#bd3786"
             ],
             [
              0.5555555555555556,
              "#d8576b"
             ],
             [
              0.6666666666666666,
              "#ed7953"
             ],
             [
              0.7777777777777778,
              "#fb9f3a"
             ],
             [
              0.8888888888888888,
              "#fdca26"
             ],
             [
              1,
              "#f0f921"
             ]
            ],
            "type": "heatmap"
           }
          ],
          "heatmapgl": [
           {
            "colorbar": {
             "outlinewidth": 0,
             "ticks": ""
            },
            "colorscale": [
             [
              0,
              "#0d0887"
             ],
             [
              0.1111111111111111,
              "#46039f"
             ],
             [
              0.2222222222222222,
              "#7201a8"
             ],
             [
              0.3333333333333333,
              "#9c179e"
             ],
             [
              0.4444444444444444,
              "#bd3786"
             ],
             [
              0.5555555555555556,
              "#d8576b"
             ],
             [
              0.6666666666666666,
              "#ed7953"
             ],
             [
              0.7777777777777778,
              "#fb9f3a"
             ],
             [
              0.8888888888888888,
              "#fdca26"
             ],
             [
              1,
              "#f0f921"
             ]
            ],
            "type": "heatmapgl"
           }
          ],
          "histogram": [
           {
            "marker": {
             "colorbar": {
              "outlinewidth": 0,
              "ticks": ""
             }
            },
            "type": "histogram"
           }
          ],
          "histogram2d": [
           {
            "colorbar": {
             "outlinewidth": 0,
             "ticks": ""
            },
            "colorscale": [
             [
              0,
              "#0d0887"
             ],
             [
              0.1111111111111111,
              "#46039f"
             ],
             [
              0.2222222222222222,
              "#7201a8"
             ],
             [
              0.3333333333333333,
              "#9c179e"
             ],
             [
              0.4444444444444444,
              "#bd3786"
             ],
             [
              0.5555555555555556,
              "#d8576b"
             ],
             [
              0.6666666666666666,
              "#ed7953"
             ],
             [
              0.7777777777777778,
              "#fb9f3a"
             ],
             [
              0.8888888888888888,
              "#fdca26"
             ],
             [
              1,
              "#f0f921"
             ]
            ],
            "type": "histogram2d"
           }
          ],
          "histogram2dcontour": [
           {
            "colorbar": {
             "outlinewidth": 0,
             "ticks": ""
            },
            "colorscale": [
             [
              0,
              "#0d0887"
             ],
             [
              0.1111111111111111,
              "#46039f"
             ],
             [
              0.2222222222222222,
              "#7201a8"
             ],
             [
              0.3333333333333333,
              "#9c179e"
             ],
             [
              0.4444444444444444,
              "#bd3786"
             ],
             [
              0.5555555555555556,
              "#d8576b"
             ],
             [
              0.6666666666666666,
              "#ed7953"
             ],
             [
              0.7777777777777778,
              "#fb9f3a"
             ],
             [
              0.8888888888888888,
              "#fdca26"
             ],
             [
              1,
              "#f0f921"
             ]
            ],
            "type": "histogram2dcontour"
           }
          ],
          "mesh3d": [
           {
            "colorbar": {
             "outlinewidth": 0,
             "ticks": ""
            },
            "type": "mesh3d"
           }
          ],
          "parcoords": [
           {
            "line": {
             "colorbar": {
              "outlinewidth": 0,
              "ticks": ""
             }
            },
            "type": "parcoords"
           }
          ],
          "pie": [
           {
            "automargin": true,
            "type": "pie"
           }
          ],
          "scatter": [
           {
            "marker": {
             "colorbar": {
              "outlinewidth": 0,
              "ticks": ""
             }
            },
            "type": "scatter"
           }
          ],
          "scatter3d": [
           {
            "line": {
             "colorbar": {
              "outlinewidth": 0,
              "ticks": ""
             }
            },
            "marker": {
             "colorbar": {
              "outlinewidth": 0,
              "ticks": ""
             }
            },
            "type": "scatter3d"
           }
          ],
          "scattercarpet": [
           {
            "marker": {
             "colorbar": {
              "outlinewidth": 0,
              "ticks": ""
             }
            },
            "type": "scattercarpet"
           }
          ],
          "scattergeo": [
           {
            "marker": {
             "colorbar": {
              "outlinewidth": 0,
              "ticks": ""
             }
            },
            "type": "scattergeo"
           }
          ],
          "scattergl": [
           {
            "marker": {
             "colorbar": {
              "outlinewidth": 0,
              "ticks": ""
             }
            },
            "type": "scattergl"
           }
          ],
          "scattermapbox": [
           {
            "marker": {
             "colorbar": {
              "outlinewidth": 0,
              "ticks": ""
             }
            },
            "type": "scattermapbox"
           }
          ],
          "scatterpolar": [
           {
            "marker": {
             "colorbar": {
              "outlinewidth": 0,
              "ticks": ""
             }
            },
            "type": "scatterpolar"
           }
          ],
          "scatterpolargl": [
           {
            "marker": {
             "colorbar": {
              "outlinewidth": 0,
              "ticks": ""
             }
            },
            "type": "scatterpolargl"
           }
          ],
          "scatterternary": [
           {
            "marker": {
             "colorbar": {
              "outlinewidth": 0,
              "ticks": ""
             }
            },
            "type": "scatterternary"
           }
          ],
          "surface": [
           {
            "colorbar": {
             "outlinewidth": 0,
             "ticks": ""
            },
            "colorscale": [
             [
              0,
              "#0d0887"
             ],
             [
              0.1111111111111111,
              "#46039f"
             ],
             [
              0.2222222222222222,
              "#7201a8"
             ],
             [
              0.3333333333333333,
              "#9c179e"
             ],
             [
              0.4444444444444444,
              "#bd3786"
             ],
             [
              0.5555555555555556,
              "#d8576b"
             ],
             [
              0.6666666666666666,
              "#ed7953"
             ],
             [
              0.7777777777777778,
              "#fb9f3a"
             ],
             [
              0.8888888888888888,
              "#fdca26"
             ],
             [
              1,
              "#f0f921"
             ]
            ],
            "type": "surface"
           }
          ],
          "table": [
           {
            "cells": {
             "fill": {
              "color": "#EBF0F8"
             },
             "line": {
              "color": "white"
             }
            },
            "header": {
             "fill": {
              "color": "#C8D4E3"
             },
             "line": {
              "color": "white"
             }
            },
            "type": "table"
           }
          ]
         },
         "layout": {
          "annotationdefaults": {
           "arrowcolor": "#2a3f5f",
           "arrowhead": 0,
           "arrowwidth": 1
          },
          "autotypenumbers": "strict",
          "coloraxis": {
           "colorbar": {
            "outlinewidth": 0,
            "ticks": ""
           }
          },
          "colorscale": {
           "diverging": [
            [
             0,
             "#8e0152"
            ],
            [
             0.1,
             "#c51b7d"
            ],
            [
             0.2,
             "#de77ae"
            ],
            [
             0.3,
             "#f1b6da"
            ],
            [
             0.4,
             "#fde0ef"
            ],
            [
             0.5,
             "#f7f7f7"
            ],
            [
             0.6,
             "#e6f5d0"
            ],
            [
             0.7,
             "#b8e186"
            ],
            [
             0.8,
             "#7fbc41"
            ],
            [
             0.9,
             "#4d9221"
            ],
            [
             1,
             "#276419"
            ]
           ],
           "sequential": [
            [
             0,
             "#0d0887"
            ],
            [
             0.1111111111111111,
             "#46039f"
            ],
            [
             0.2222222222222222,
             "#7201a8"
            ],
            [
             0.3333333333333333,
             "#9c179e"
            ],
            [
             0.4444444444444444,
             "#bd3786"
            ],
            [
             0.5555555555555556,
             "#d8576b"
            ],
            [
             0.6666666666666666,
             "#ed7953"
            ],
            [
             0.7777777777777778,
             "#fb9f3a"
            ],
            [
             0.8888888888888888,
             "#fdca26"
            ],
            [
             1,
             "#f0f921"
            ]
           ],
           "sequentialminus": [
            [
             0,
             "#0d0887"
            ],
            [
             0.1111111111111111,
             "#46039f"
            ],
            [
             0.2222222222222222,
             "#7201a8"
            ],
            [
             0.3333333333333333,
             "#9c179e"
            ],
            [
             0.4444444444444444,
             "#bd3786"
            ],
            [
             0.5555555555555556,
             "#d8576b"
            ],
            [
             0.6666666666666666,
             "#ed7953"
            ],
            [
             0.7777777777777778,
             "#fb9f3a"
            ],
            [
             0.8888888888888888,
             "#fdca26"
            ],
            [
             1,
             "#f0f921"
            ]
           ]
          },
          "colorway": [
           "#636efa",
           "#EF553B",
           "#00cc96",
           "#ab63fa",
           "#FFA15A",
           "#19d3f3",
           "#FF6692",
           "#B6E880",
           "#FF97FF",
           "#FECB52"
          ],
          "font": {
           "color": "#2a3f5f"
          },
          "geo": {
           "bgcolor": "white",
           "lakecolor": "white",
           "landcolor": "#E5ECF6",
           "showlakes": true,
           "showland": true,
           "subunitcolor": "white"
          },
          "hoverlabel": {
           "align": "left"
          },
          "hovermode": "closest",
          "mapbox": {
           "style": "light"
          },
          "paper_bgcolor": "white",
          "plot_bgcolor": "#E5ECF6",
          "polar": {
           "angularaxis": {
            "gridcolor": "white",
            "linecolor": "white",
            "ticks": ""
           },
           "bgcolor": "#E5ECF6",
           "radialaxis": {
            "gridcolor": "white",
            "linecolor": "white",
            "ticks": ""
           }
          },
          "scene": {
           "xaxis": {
            "backgroundcolor": "#E5ECF6",
            "gridcolor": "white",
            "gridwidth": 2,
            "linecolor": "white",
            "showbackground": true,
            "ticks": "",
            "zerolinecolor": "white"
           },
           "yaxis": {
            "backgroundcolor": "#E5ECF6",
            "gridcolor": "white",
            "gridwidth": 2,
            "linecolor": "white",
            "showbackground": true,
            "ticks": "",
            "zerolinecolor": "white"
           },
           "zaxis": {
            "backgroundcolor": "#E5ECF6",
            "gridcolor": "white",
            "gridwidth": 2,
            "linecolor": "white",
            "showbackground": true,
            "ticks": "",
            "zerolinecolor": "white"
           }
          },
          "shapedefaults": {
           "line": {
            "color": "#2a3f5f"
           }
          },
          "ternary": {
           "aaxis": {
            "gridcolor": "white",
            "linecolor": "white",
            "ticks": ""
           },
           "baxis": {
            "gridcolor": "white",
            "linecolor": "white",
            "ticks": ""
           },
           "bgcolor": "#E5ECF6",
           "caxis": {
            "gridcolor": "white",
            "linecolor": "white",
            "ticks": ""
           }
          },
          "title": {
           "x": 0.05
          },
          "xaxis": {
           "automargin": true,
           "gridcolor": "white",
           "linecolor": "white",
           "ticks": "",
           "title": {
            "standoff": 15
           },
           "zerolinecolor": "white",
           "zerolinewidth": 2
          },
          "yaxis": {
           "automargin": true,
           "gridcolor": "white",
           "linecolor": "white",
           "ticks": "",
           "title": {
            "standoff": 15
           },
           "zerolinecolor": "white",
           "zerolinewidth": 2
          }
         }
        },
        "xaxis": {
         "anchor": "y",
         "domain": [
          0,
          1
         ],
         "title": {
          "text": "Month 2021"
         }
        },
        "yaxis": {
         "anchor": "x",
         "domain": [
          0,
          1
         ],
         "title": {
          "text": "0 to 1"
         }
        }
       }
      },
      "text/html": [
       "<div>                            <div id=\"71ee5539-62ce-4efa-9ebb-ff8f6b8600bb\" class=\"plotly-graph-div\" style=\"height:525px; width:100%;\"></div>            <script type=\"text/javascript\">                require([\"plotly\"], function(Plotly) {                    window.PLOTLYENV=window.PLOTLYENV || {};                                    if (document.getElementById(\"71ee5539-62ce-4efa-9ebb-ff8f6b8600bb\")) {                    Plotly.newPlot(                        \"71ee5539-62ce-4efa-9ebb-ff8f6b8600bb\",                        [{\"hovertemplate\": \"color=Completed vaccination percent<br>Month 2021=%{x}<br>0 to 1=%{y}<extra></extra>\", \"legendgroup\": \"Completed vaccination percent\", \"line\": {\"color\": \"#636efa\", \"dash\": \"solid\"}, \"mode\": \"lines\", \"name\": \"Completed vaccination percent\", \"orientation\": \"v\", \"showlegend\": true, \"type\": \"scatter\", \"x\": [1, 2, 3, 4, 5, 6], \"xaxis\": \"x\", \"y\": [0.0009861766480858767, 0.00594563002893509, 0.016131194540923297, 0.03468146654349388, 0.060503087552647, 0.1316826238430167], \"yaxis\": \"y\"}, {\"name\": \"Flights vs pre-COVID in %\", \"type\": \"bar\", \"x\": [1, 2, 3, 4, 5, 6], \"y\": [0.5986722393426893, 0.5509425753389152, 0.6503934267002406, 0.6806933280516723, 0.6509983173582524, 0.7273696833808099]}],                        {\"legend\": {\"title\": {\"text\": \"color\"}, \"tracegroupgap\": 0}, \"margin\": {\"t\": 60}, \"template\": {\"data\": {\"bar\": [{\"error_x\": {\"color\": \"#2a3f5f\"}, \"error_y\": {\"color\": \"#2a3f5f\"}, \"marker\": {\"line\": {\"color\": \"#E5ECF6\", \"width\": 0.5}}, \"type\": \"bar\"}], \"barpolar\": [{\"marker\": {\"line\": {\"color\": \"#E5ECF6\", \"width\": 0.5}}, \"type\": \"barpolar\"}], \"carpet\": [{\"aaxis\": {\"endlinecolor\": \"#2a3f5f\", \"gridcolor\": \"white\", \"linecolor\": \"white\", \"minorgridcolor\": \"white\", \"startlinecolor\": \"#2a3f5f\"}, \"baxis\": {\"endlinecolor\": \"#2a3f5f\", \"gridcolor\": \"white\", \"linecolor\": \"white\", \"minorgridcolor\": \"white\", \"startlinecolor\": \"#2a3f5f\"}, \"type\": \"carpet\"}], \"choropleth\": [{\"colorbar\": {\"outlinewidth\": 0, \"ticks\": \"\"}, \"type\": \"choropleth\"}], \"contour\": [{\"colorbar\": {\"outlinewidth\": 0, \"ticks\": \"\"}, \"colorscale\": [[0.0, \"#0d0887\"], [0.1111111111111111, \"#46039f\"], [0.2222222222222222, \"#7201a8\"], [0.3333333333333333, \"#9c179e\"], [0.4444444444444444, \"#bd3786\"], [0.5555555555555556, \"#d8576b\"], [0.6666666666666666, \"#ed7953\"], [0.7777777777777778, \"#fb9f3a\"], [0.8888888888888888, \"#fdca26\"], [1.0, \"#f0f921\"]], \"type\": \"contour\"}], \"contourcarpet\": [{\"colorbar\": {\"outlinewidth\": 0, \"ticks\": \"\"}, \"type\": \"contourcarpet\"}], \"heatmap\": [{\"colorbar\": {\"outlinewidth\": 0, \"ticks\": \"\"}, \"colorscale\": [[0.0, \"#0d0887\"], [0.1111111111111111, \"#46039f\"], [0.2222222222222222, \"#7201a8\"], [0.3333333333333333, \"#9c179e\"], [0.4444444444444444, \"#bd3786\"], [0.5555555555555556, \"#d8576b\"], [0.6666666666666666, \"#ed7953\"], [0.7777777777777778, \"#fb9f3a\"], [0.8888888888888888, \"#fdca26\"], [1.0, \"#f0f921\"]], \"type\": \"heatmap\"}], \"heatmapgl\": [{\"colorbar\": {\"outlinewidth\": 0, \"ticks\": \"\"}, \"colorscale\": [[0.0, \"#0d0887\"], [0.1111111111111111, \"#46039f\"], [0.2222222222222222, \"#7201a8\"], [0.3333333333333333, \"#9c179e\"], [0.4444444444444444, \"#bd3786\"], [0.5555555555555556, \"#d8576b\"], [0.6666666666666666, \"#ed7953\"], [0.7777777777777778, \"#fb9f3a\"], [0.8888888888888888, \"#fdca26\"], [1.0, \"#f0f921\"]], \"type\": \"heatmapgl\"}], \"histogram\": [{\"marker\": {\"colorbar\": {\"outlinewidth\": 0, \"ticks\": \"\"}}, \"type\": \"histogram\"}], \"histogram2d\": [{\"colorbar\": {\"outlinewidth\": 0, \"ticks\": \"\"}, \"colorscale\": [[0.0, \"#0d0887\"], [0.1111111111111111, \"#46039f\"], [0.2222222222222222, \"#7201a8\"], [0.3333333333333333, \"#9c179e\"], [0.4444444444444444, \"#bd3786\"], [0.5555555555555556, \"#d8576b\"], [0.6666666666666666, \"#ed7953\"], [0.7777777777777778, \"#fb9f3a\"], [0.8888888888888888, \"#fdca26\"], [1.0, \"#f0f921\"]], \"type\": \"histogram2d\"}], \"histogram2dcontour\": [{\"colorbar\": {\"outlinewidth\": 0, \"ticks\": \"\"}, \"colorscale\": [[0.0, \"#0d0887\"], [0.1111111111111111, \"#46039f\"], [0.2222222222222222, \"#7201a8\"], [0.3333333333333333, \"#9c179e\"], [0.4444444444444444, \"#bd3786\"], [0.5555555555555556, \"#d8576b\"], [0.6666666666666666, \"#ed7953\"], [0.7777777777777778, \"#fb9f3a\"], [0.8888888888888888, \"#fdca26\"], [1.0, \"#f0f921\"]], \"type\": \"histogram2dcontour\"}], \"mesh3d\": [{\"colorbar\": {\"outlinewidth\": 0, \"ticks\": \"\"}, \"type\": \"mesh3d\"}], \"parcoords\": [{\"line\": {\"colorbar\": {\"outlinewidth\": 0, \"ticks\": \"\"}}, \"type\": \"parcoords\"}], \"pie\": [{\"automargin\": true, \"type\": \"pie\"}], \"scatter\": [{\"marker\": {\"colorbar\": {\"outlinewidth\": 0, \"ticks\": \"\"}}, \"type\": \"scatter\"}], \"scatter3d\": [{\"line\": {\"colorbar\": {\"outlinewidth\": 0, \"ticks\": \"\"}}, \"marker\": {\"colorbar\": {\"outlinewidth\": 0, \"ticks\": \"\"}}, \"type\": \"scatter3d\"}], \"scattercarpet\": [{\"marker\": {\"colorbar\": {\"outlinewidth\": 0, \"ticks\": \"\"}}, \"type\": \"scattercarpet\"}], \"scattergeo\": [{\"marker\": {\"colorbar\": {\"outlinewidth\": 0, \"ticks\": \"\"}}, \"type\": \"scattergeo\"}], \"scattergl\": [{\"marker\": {\"colorbar\": {\"outlinewidth\": 0, \"ticks\": \"\"}}, \"type\": \"scattergl\"}], \"scattermapbox\": [{\"marker\": {\"colorbar\": {\"outlinewidth\": 0, \"ticks\": \"\"}}, \"type\": \"scattermapbox\"}], \"scatterpolar\": [{\"marker\": {\"colorbar\": {\"outlinewidth\": 0, \"ticks\": \"\"}}, \"type\": \"scatterpolar\"}], \"scatterpolargl\": [{\"marker\": {\"colorbar\": {\"outlinewidth\": 0, \"ticks\": \"\"}}, \"type\": \"scatterpolargl\"}], \"scatterternary\": [{\"marker\": {\"colorbar\": {\"outlinewidth\": 0, \"ticks\": \"\"}}, \"type\": \"scatterternary\"}], \"surface\": [{\"colorbar\": {\"outlinewidth\": 0, \"ticks\": \"\"}, \"colorscale\": [[0.0, \"#0d0887\"], [0.1111111111111111, \"#46039f\"], [0.2222222222222222, \"#7201a8\"], [0.3333333333333333, \"#9c179e\"], [0.4444444444444444, \"#bd3786\"], [0.5555555555555556, \"#d8576b\"], [0.6666666666666666, \"#ed7953\"], [0.7777777777777778, \"#fb9f3a\"], [0.8888888888888888, \"#fdca26\"], [1.0, \"#f0f921\"]], \"type\": \"surface\"}], \"table\": [{\"cells\": {\"fill\": {\"color\": \"#EBF0F8\"}, \"line\": {\"color\": \"white\"}}, \"header\": {\"fill\": {\"color\": \"#C8D4E3\"}, \"line\": {\"color\": \"white\"}}, \"type\": \"table\"}]}, \"layout\": {\"annotationdefaults\": {\"arrowcolor\": \"#2a3f5f\", \"arrowhead\": 0, \"arrowwidth\": 1}, \"autotypenumbers\": \"strict\", \"coloraxis\": {\"colorbar\": {\"outlinewidth\": 0, \"ticks\": \"\"}}, \"colorscale\": {\"diverging\": [[0, \"#8e0152\"], [0.1, \"#c51b7d\"], [0.2, \"#de77ae\"], [0.3, \"#f1b6da\"], [0.4, \"#fde0ef\"], [0.5, \"#f7f7f7\"], [0.6, \"#e6f5d0\"], [0.7, \"#b8e186\"], [0.8, \"#7fbc41\"], [0.9, \"#4d9221\"], [1, \"#276419\"]], \"sequential\": [[0.0, \"#0d0887\"], [0.1111111111111111, \"#46039f\"], [0.2222222222222222, \"#7201a8\"], [0.3333333333333333, \"#9c179e\"], [0.4444444444444444, \"#bd3786\"], [0.5555555555555556, \"#d8576b\"], [0.6666666666666666, \"#ed7953\"], [0.7777777777777778, \"#fb9f3a\"], [0.8888888888888888, \"#fdca26\"], [1.0, \"#f0f921\"]], \"sequentialminus\": [[0.0, \"#0d0887\"], [0.1111111111111111, \"#46039f\"], [0.2222222222222222, \"#7201a8\"], [0.3333333333333333, \"#9c179e\"], [0.4444444444444444, \"#bd3786\"], [0.5555555555555556, \"#d8576b\"], [0.6666666666666666, \"#ed7953\"], [0.7777777777777778, \"#fb9f3a\"], [0.8888888888888888, \"#fdca26\"], [1.0, \"#f0f921\"]]}, \"colorway\": [\"#636efa\", \"#EF553B\", \"#00cc96\", \"#ab63fa\", \"#FFA15A\", \"#19d3f3\", \"#FF6692\", \"#B6E880\", \"#FF97FF\", \"#FECB52\"], \"font\": {\"color\": \"#2a3f5f\"}, \"geo\": {\"bgcolor\": \"white\", \"lakecolor\": \"white\", \"landcolor\": \"#E5ECF6\", \"showlakes\": true, \"showland\": true, \"subunitcolor\": \"white\"}, \"hoverlabel\": {\"align\": \"left\"}, \"hovermode\": \"closest\", \"mapbox\": {\"style\": \"light\"}, \"paper_bgcolor\": \"white\", \"plot_bgcolor\": \"#E5ECF6\", \"polar\": {\"angularaxis\": {\"gridcolor\": \"white\", \"linecolor\": \"white\", \"ticks\": \"\"}, \"bgcolor\": \"#E5ECF6\", \"radialaxis\": {\"gridcolor\": \"white\", \"linecolor\": \"white\", \"ticks\": \"\"}}, \"scene\": {\"xaxis\": {\"backgroundcolor\": \"#E5ECF6\", \"gridcolor\": \"white\", \"gridwidth\": 2, \"linecolor\": \"white\", \"showbackground\": true, \"ticks\": \"\", \"zerolinecolor\": \"white\"}, \"yaxis\": {\"backgroundcolor\": \"#E5ECF6\", \"gridcolor\": \"white\", \"gridwidth\": 2, \"linecolor\": \"white\", \"showbackground\": true, \"ticks\": \"\", \"zerolinecolor\": \"white\"}, \"zaxis\": {\"backgroundcolor\": \"#E5ECF6\", \"gridcolor\": \"white\", \"gridwidth\": 2, \"linecolor\": \"white\", \"showbackground\": true, \"ticks\": \"\", \"zerolinecolor\": \"white\"}}, \"shapedefaults\": {\"line\": {\"color\": \"#2a3f5f\"}}, \"ternary\": {\"aaxis\": {\"gridcolor\": \"white\", \"linecolor\": \"white\", \"ticks\": \"\"}, \"baxis\": {\"gridcolor\": \"white\", \"linecolor\": \"white\", \"ticks\": \"\"}, \"bgcolor\": \"#E5ECF6\", \"caxis\": {\"gridcolor\": \"white\", \"linecolor\": \"white\", \"ticks\": \"\"}}, \"title\": {\"x\": 0.05}, \"xaxis\": {\"automargin\": true, \"gridcolor\": \"white\", \"linecolor\": \"white\", \"ticks\": \"\", \"title\": {\"standoff\": 15}, \"zerolinecolor\": \"white\", \"zerolinewidth\": 2}, \"yaxis\": {\"automargin\": true, \"gridcolor\": \"white\", \"linecolor\": \"white\", \"ticks\": \"\", \"title\": {\"standoff\": 15}, \"zerolinecolor\": \"white\", \"zerolinewidth\": 2}}}, \"xaxis\": {\"anchor\": \"y\", \"domain\": [0.0, 1.0], \"title\": {\"text\": \"Month 2021\"}}, \"yaxis\": {\"anchor\": \"x\", \"domain\": [0.0, 1.0], \"title\": {\"text\": \"0 to 1\"}}},                        {\"responsive\": true}                    ).then(function(){\n",
       "                            \n",
       "var gd = document.getElementById('71ee5539-62ce-4efa-9ebb-ff8f6b8600bb');\n",
       "var x = new MutationObserver(function (mutations, observer) {{\n",
       "        var display = window.getComputedStyle(gd).display;\n",
       "        if (!display || display === 'none') {{\n",
       "            console.log([gd, 'removed!']);\n",
       "            Plotly.purge(gd);\n",
       "            observer.disconnect();\n",
       "        }}\n",
       "}});\n",
       "\n",
       "// Listen for the removal of the full notebook cells\n",
       "var notebookContainer = gd.closest('#notebook-container');\n",
       "if (notebookContainer) {{\n",
       "    x.observe(notebookContainer, {childList: true});\n",
       "}}\n",
       "\n",
       "// Listen for the clearing of the current output cell\n",
       "var outputEl = gd.closest('.output');\n",
       "if (outputEl) {{\n",
       "    x.observe(outputEl, {childList: true});\n",
       "}}\n",
       "\n",
       "                        })                };                });            </script>        </div>"
      ]
     },
     "metadata": {},
     "output_type": "display_data"
    }
   ],
   "source": [
    "#bar-line plot - consolidated view:\n",
    "\"\"\"\n",
    "1. Summarize data per month: Mean covid-vac%, sum of # of flights\n",
    "\n",
    "2. ceate table copy, filtered for all of 2021\n",
    "\n",
    "3. left merge original table, map by month, and date - 2 years\n",
    "\n",
    "4. Add new column with flight percentage\n",
    "\n",
    "\n",
    "\"\"\"\n",
    "total_considered_population=flight_data_monthly[(flight_data_monthly['year']==2021) & (flight_data_monthly['month']==6)]['population'].sum()\n",
    "\n",
    "total2021=flight_data_monthly[flight_data_monthly['year']==2021].groupby('month').agg('sum')\n",
    "total2019=flight_data_monthly[flight_data_monthly['year']==2019].groupby('month').agg('sum')\n",
    "\n",
    "total_merged=total2021.merge(total2019, on='month', how='inner')\n",
    "\n",
    "total_merged['flight_return_level']=total_merged['callsign_x']/total_merged['callsign_y']\n",
    "total_merged['vaccination_percent']=total_merged['people_fully_vaccinated_x'].map(lambda x: x/total_considered_population)\n",
    "\n",
    "total_merged\n",
    "\n",
    "\n",
    "import plotly.express as px\n",
    "\n",
    "x_axis = total_merged.index\n",
    "monthly_flights = total_merged['flight_return_level']\n",
    "monthly_vacc = total_merged['vaccination_percent']\n",
    "fig = px.line(x=x_axis, y=monthly_vacc, color=px.Constant(\"Completed vaccination percent\"),\n",
    "             labels=dict(x=\"Month 2021\", y=\"0 to 1\"))\n",
    "fig.add_bar(x=x_axis, y=monthly_flights, name=\"Flights vs pre-COVID in %\")\n",
    "fig.show()\n"
   ]
  },
  {
   "cell_type": "code",
   "execution_count": 161,
   "id": "cdc9e0a7",
   "metadata": {},
   "outputs": [
    {
     "data": {
      "text/plain": [
       "0.7033605578385899"
      ]
     },
     "execution_count": 161,
     "metadata": {},
     "output_type": "execute_result"
    }
   ],
   "source": [
    "year_merged_filtered[year_merged_filtered['iso_country']==country].corr().loc['flight_return_level','people_fully_vaccinated_per_hundred_x']"
   ]
  },
  {
   "cell_type": "code",
   "execution_count": 162,
   "id": "fccff4c1",
   "metadata": {},
   "outputs": [
    {
     "data": {
      "text/plain": [
       "(array([439946., 487636., 519571., 540364., 555256., 498124., 489699.,\n",
       "        486068., 462425., 347763., 101348., 141637., 232562., 233321.,\n",
       "        235693., 251752., 231421., 230347., 272753., 278096.]),\n",
       " array([17897.  , 17942.55, 17988.1 , 18033.65, 18079.2 , 18124.75,\n",
       "        18170.3 , 18215.85, 18261.4 , 18306.95, 18352.5 , 18398.05,\n",
       "        18443.6 , 18489.15, 18534.7 , 18580.25, 18625.8 , 18671.35,\n",
       "        18716.9 , 18762.45, 18808.  ]),\n",
       " <BarContainer object of 20 artists>)"
      ]
     },
     "execution_count": 162,
     "metadata": {},
     "output_type": "execute_result"
    },
    {
     "data": {
      "image/png": "[encoded data removed]",
      "text/plain": [
       "<Figure size 432x288 with 1 Axes>"
      ]
     },
     "metadata": {
      "needs_background": "light"
     },
     "output_type": "display_data"
    }
   ],
   "source": [
    "plt.hist(missing['date_num'], bins = 20, color = \"#5ee3ff\")"
   ]
  },
  {
   "cell_type": "code",
   "execution_count": 20,
   "id": "1b1caf0d",
   "metadata": {},
   "outputs": [],
   "source": [
    "date_sum=flight_data_filtered.groupby('date_num')['iso_country'].agg('count')\n",
    "\n",
    "date_sum=flight_data_filtered.groupby('date_num')['iso_country'].agg('count')"
   ]
  },
  {
   "cell_type": "code",
   "execution_count": 21,
   "id": "c287be5d",
   "metadata": {
    "scrolled": true
   },
   "outputs": [
    {
     "data": {
      "text/plain": [
       "<AxesSubplot:xlabel='date_num'>"
      ]
     },
     "execution_count": 21,
     "metadata": {},
     "output_type": "execute_result"
    },
    {
     "data": {
      "image/png": "[encoded data removed]",
      "text/plain": [
       "<Figure size 432x288 with 1 Axes>"
      ]
     },
     "metadata": {
      "needs_background": "light"
     },
     "output_type": "display_data"
    }
   ],
   "source": [
    "\n",
    "date_sum.plot.bar(color = 'b')\n",
    "\n"
   ]
  }
 ],
 "metadata": {
  "kernelspec": {
   "display_name": "Python 3",
   "language": "python",
   "name": "python3"
  },
  "language_info": {
   "codemirror_mode": {
    "name": "ipython",
    "version": 3
   },
   "file_extension": ".py",
   "mimetype": "text/x-python",
   "name": "python",
   "nbconvert_exporter": "python",
   "pygments_lexer": "ipython3",
   "version": "3.8.8"
  }
 },
 "nbformat": 4,
 "nbformat_minor": 5
}
